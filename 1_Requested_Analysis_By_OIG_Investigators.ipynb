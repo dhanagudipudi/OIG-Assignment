{
 "cells": [
  {
   "cell_type": "code",
   "execution_count": 1,
   "id": "d96838d9-4e8b-45d9-a182-6d830f15498b",
   "metadata": {},
   "outputs": [],
   "source": [
    "# -------------------------------------------------------------------\n",
    "# -------------------------------------------------------------------\n",
    "# ---------------------- Data Analysis Exercise  \n",
    "# ---------------------- Senior Fraud Data Analyst (DA-IV) \n",
    "# ---------------------- Texas HHS – Office of Inspector General \n",
    "# -------------------------------------------------------------------\n",
    "# -------------------------------------------------------------------"
   ]
  },
  {
   "cell_type": "code",
   "execution_count": 2,
   "id": "c40b9c78-baf8-4af3-9a53-d268795e6d65",
   "metadata": {},
   "outputs": [],
   "source": [
    "# -------------------------------------------------------------------\n",
    "# -------------------------- REQUESTED ANALYSIS BY OIG INVESTIGATORS"
   ]
  },
  {
   "cell_type": "code",
   "execution_count": 3,
   "id": "55a631c1-feae-49ba-ab49-00c6988add79",
   "metadata": {},
   "outputs": [
    {
     "name": "stderr",
     "output_type": "stream",
     "text": [
      "Matplotlib is building the font cache; this may take a moment.\n"
     ]
    }
   ],
   "source": [
    "# ------------- Importing required packages\n",
    "import pandas as pd\n",
    "import numpy as np\n",
    "import matplotlib.pyplot as plt\n",
    "\n",
    "# Setting pd options\n",
    "pd.set_option('display.max_columns', None)\n",
    "pd.options.mode.chained_assignment = None "
   ]
  },
  {
   "cell_type": "code",
   "execution_count": 4,
   "id": "dd02ee48-059e-43a3-b243-c50a0dace296",
   "metadata": {},
   "outputs": [],
   "source": [
    "# Reading in the cleaned data - \n",
    "claims_df = pd.read_excel('data/Medicaid_Fraud_Case_Cleaned.xlsx', sheet_name='Claims')\n",
    "clients_df = pd.read_excel('data/Medicaid_Fraud_Case_Cleaned.xlsx', sheet_name='Clients')\n",
    "providers_df = pd.read_excel('data/Medicaid_Fraud_Case_Cleaned.xlsx', sheet_name='Providers')\n",
    "procedure_codes_df = pd.read_excel('data/Medicaid_Fraud_Case_Cleaned.xlsx', sheet_name='Procedure Codes')"
   ]
  },
  {
   "cell_type": "code",
   "execution_count": 5,
   "id": "b3597803-f348-408c-8b37-e02286d902a5",
   "metadata": {},
   "outputs": [
    {
     "name": "stdout",
     "output_type": "stream",
     "text": [
      "(400, 9)\n",
      "(150, 6)\n",
      "(75, 5)\n",
      "(7, 5)\n"
     ]
    }
   ],
   "source": [
    "# Checking shape -\n",
    "print(claims_df.shape)\n",
    "print(clients_df.shape)\n",
    "print(providers_df.shape)\n",
    "print(procedure_codes_df.shape)"
   ]
  },
  {
   "cell_type": "code",
   "execution_count": 6,
   "id": "73abfe1d-4fda-4099-a34c-7bfd5d35e539",
   "metadata": {},
   "outputs": [],
   "source": [
    "# ------- Merging the data together for analysis - \n",
    "\n",
    "# Merging claims with providers\n",
    "merged_df = pd.merge(left = claims_df\n",
    "                    , right = providers_df\n",
    "                    , how = 'left'\n",
    "                    , left_on = 'Provider ID'\n",
    "                    , right_on = 'Provider ID')\n",
    "\n",
    "# Merging claims with clients\n",
    "merged_df = pd.merge(left = merged_df\n",
    "                    , right = clients_df\n",
    "                    , how = 'left'\n",
    "                    , left_on = 'Client ID'\n",
    "                    , right_on = 'Client ID')\n",
    "\n",
    "# Merging claims with procedures\n",
    "merged_claims_df = pd.merge(left = merged_df\n",
    "                        , right = procedure_codes_df\n",
    "                        , how = 'left'\n",
    "                        , left_on = 'Proc Code'\n",
    "                        , right_on = 'Proc Code')"
   ]
  },
  {
   "cell_type": "code",
   "execution_count": 7,
   "id": "616c79b1-e6a8-46c1-ab75-04ceceb60bbc",
   "metadata": {},
   "outputs": [
    {
     "name": "stdout",
     "output_type": "stream",
     "text": [
      "(400, 22)\n"
     ]
    }
   ],
   "source": [
    "print(merged_claims_df.shape)"
   ]
  },
  {
   "cell_type": "code",
   "execution_count": 8,
   "id": "e0639edb-e0d1-4c5b-8a52-ec576f6dc948",
   "metadata": {},
   "outputs": [
    {
     "data": {
      "text/plain": [
       "Index(['Claim ID', 'Provider ID', 'Client ID', 'Proc Code',\n",
       "       'Claim Status Code', 'From Service Date', 'To Service Date',\n",
       "       'Billed Amount ($)', 'Paid Amount ($)', 'Provider Name', 'Specialty',\n",
       "       'Enrollment Date', 'Status', 'Client Name', 'Date of Birth', 'Gender',\n",
       "       'Enrollment Start Date', 'Enrollment End Date', 'Description',\n",
       "       'Typical Duration (hrs)', 'Category', 'Type of Service'],\n",
       "      dtype='object')"
      ]
     },
     "execution_count": 8,
     "metadata": {},
     "output_type": "execute_result"
    }
   ],
   "source": [
    "merged_claims_df.columns"
   ]
  },
  {
   "cell_type": "markdown",
   "id": "87726223-5345-4288-bc30-353e935ac47f",
   "metadata": {},
   "source": [
    "### ---------------- FILTERING FOR THE REQUIRED CLAIMS"
   ]
  },
  {
   "cell_type": "code",
   "execution_count": 9,
   "id": "ed74f773-af61-431a-9b05-b440678dfb9e",
   "metadata": {},
   "outputs": [
    {
     "data": {
      "text/plain": [
       "(177, 22)"
      ]
     },
     "execution_count": 9,
     "metadata": {},
     "output_type": "execute_result"
    }
   ],
   "source": [
    "# ------------- Filtering on the conditions - \n",
    "# \"From Service Date\" >= \n",
    "# --- and\n",
    "# \"To Service Date\" <=\n",
    "# --- and\n",
    "# \"Claim Status Code\" = 'Paid Claims'\n",
    "# --- and \n",
    "# \"Type of Service\" = 'Medical'\n",
    "\n",
    "required_claims_df = merged_claims_df[(merged_claims_df[\"From Service Date\"] >= \"2021-09-01\") &\n",
    "                                        (merged_claims_df[\"To Service Date\"] <= \"2022-08-31\") &\n",
    "                                        (merged_claims_df[\"Claim Status Code\"] == \"P\") &\n",
    "                                        (merged_claims_df[\"Type of Service\"] == \"Medical\")]\n",
    "required_claims_df.shape"
   ]
  },
  {
   "cell_type": "code",
   "execution_count": null,
   "id": "96c8dafa-a2bb-4a8e-872d-09f233237cdb",
   "metadata": {},
   "outputs": [],
   "source": []
  },
  {
   "cell_type": "markdown",
   "id": "c7328218-7450-46f2-bbd2-1dc25c39e641",
   "metadata": {},
   "source": [
    "# ------------------------ DATA ANALYSIS FOR OIG INVESTIGATORS"
   ]
  },
  {
   "cell_type": "code",
   "execution_count": null,
   "id": "589ddc9d-c111-43cc-ab50-7386fcbc6bd2",
   "metadata": {},
   "outputs": [],
   "source": []
  },
  {
   "cell_type": "markdown",
   "id": "290679a0-cd18-40f6-94af-a92ed53f8f4a",
   "metadata": {},
   "source": [
    "# ----------- Sheet 2 - Provider Analysis : Payments"
   ]
  },
  {
   "cell_type": "code",
   "execution_count": null,
   "id": "fb775752-c8d9-4421-894c-1dee088be0a5",
   "metadata": {},
   "outputs": [],
   "source": []
  },
  {
   "cell_type": "code",
   "execution_count": 10,
   "id": "79d9ed35-ec8c-4e3e-90a8-02cb791af377",
   "metadata": {},
   "outputs": [],
   "source": [
    "# Getting the Provider x Payment analysis\n",
    "payment_analysis_df = required_claims_df.groupby([\"Provider ID\", \"Provider Name\"], as_index=False).agg({\"Client ID\": \"count\",\n",
    "                                                                                                \"Paid Amount ($)\": \"sum\"})\n",
    "# Renaming the columns - \n",
    "payment_analysis_df = payment_analysis_df.rename(columns={\"Client ID\": \"Number of Claims Submitted\"\n",
    "                                        , \"Paid Amount ($)\": \"Total Paid-Amount\"})\n",
    "\n",
    "# Calculating Avg amount paid per claim\n",
    "payment_analysis_df[\"Average Paid-Amount per Claim\"] = payment_analysis_df[\"Total Paid-Amount\"] / payment_analysis_df[\"Number of Claims Submitted\"] "
   ]
  },
  {
   "cell_type": "code",
   "execution_count": 11,
   "id": "3a13625a-b4e2-46ce-8be2-19cbd68a2f23",
   "metadata": {},
   "outputs": [
    {
     "data": {
      "text/plain": [
       "(60, 5)"
      ]
     },
     "execution_count": 11,
     "metadata": {},
     "output_type": "execute_result"
    }
   ],
   "source": [
    "payment_analysis_df.shape"
   ]
  },
  {
   "cell_type": "code",
   "execution_count": 12,
   "id": "bbcac165-767d-4d94-b22a-cc418f2b14e7",
   "metadata": {},
   "outputs": [
    {
     "data": {
      "text/html": [
       "<div>\n",
       "<style scoped>\n",
       "    .dataframe tbody tr th:only-of-type {\n",
       "        vertical-align: middle;\n",
       "    }\n",
       "\n",
       "    .dataframe tbody tr th {\n",
       "        vertical-align: top;\n",
       "    }\n",
       "\n",
       "    .dataframe thead th {\n",
       "        text-align: right;\n",
       "    }\n",
       "</style>\n",
       "<table border=\"1\" class=\"dataframe\">\n",
       "  <thead>\n",
       "    <tr style=\"text-align: right;\">\n",
       "      <th></th>\n",
       "      <th>Provider ID</th>\n",
       "      <th>Provider Name</th>\n",
       "      <th>Number of Claims Submitted</th>\n",
       "      <th>Total Paid-Amount</th>\n",
       "      <th>Average Paid-Amount per Claim</th>\n",
       "    </tr>\n",
       "  </thead>\n",
       "  <tbody>\n",
       "    <tr>\n",
       "      <th>0</th>\n",
       "      <td>P001</td>\n",
       "      <td>Prov_001</td>\n",
       "      <td>5</td>\n",
       "      <td>866.67</td>\n",
       "      <td>173.3340</td>\n",
       "    </tr>\n",
       "    <tr>\n",
       "      <th>1</th>\n",
       "      <td>P002</td>\n",
       "      <td>Prov_002</td>\n",
       "      <td>4</td>\n",
       "      <td>601.51</td>\n",
       "      <td>150.3775</td>\n",
       "    </tr>\n",
       "    <tr>\n",
       "      <th>2</th>\n",
       "      <td>P003</td>\n",
       "      <td>Prov_003</td>\n",
       "      <td>5</td>\n",
       "      <td>1438.59</td>\n",
       "      <td>287.7180</td>\n",
       "    </tr>\n",
       "    <tr>\n",
       "      <th>3</th>\n",
       "      <td>P004</td>\n",
       "      <td>Prov_004</td>\n",
       "      <td>2</td>\n",
       "      <td>378.35</td>\n",
       "      <td>189.1750</td>\n",
       "    </tr>\n",
       "    <tr>\n",
       "      <th>4</th>\n",
       "      <td>P005</td>\n",
       "      <td>Zoom Clinic</td>\n",
       "      <td>6</td>\n",
       "      <td>1362.90</td>\n",
       "      <td>227.1500</td>\n",
       "    </tr>\n",
       "  </tbody>\n",
       "</table>\n",
       "</div>"
      ],
      "text/plain": [
       "  Provider ID Provider Name  Number of Claims Submitted  Total Paid-Amount  \\\n",
       "0        P001      Prov_001                           5             866.67   \n",
       "1        P002      Prov_002                           4             601.51   \n",
       "2        P003      Prov_003                           5            1438.59   \n",
       "3        P004      Prov_004                           2             378.35   \n",
       "4        P005   Zoom Clinic                           6            1362.90   \n",
       "\n",
       "   Average Paid-Amount per Claim  \n",
       "0                       173.3340  \n",
       "1                       150.3775  \n",
       "2                       287.7180  \n",
       "3                       189.1750  \n",
       "4                       227.1500  "
      ]
     },
     "execution_count": 12,
     "metadata": {},
     "output_type": "execute_result"
    }
   ],
   "source": [
    "payment_analysis_df.head()"
   ]
  },
  {
   "cell_type": "code",
   "execution_count": 13,
   "id": "6c1748f0-0739-4afd-9ae1-ae9a20ceecc0",
   "metadata": {},
   "outputs": [],
   "source": [
    "# ------------------------- DF ready for SHEET 2 : payment_analysis_df (will be saved at the end)"
   ]
  },
  {
   "cell_type": "code",
   "execution_count": null,
   "id": "c4cd36c8-a244-4aac-b91e-a53c36cef89a",
   "metadata": {},
   "outputs": [],
   "source": []
  },
  {
   "cell_type": "markdown",
   "id": "559f6d15-8009-406d-8a98-3ff1a234c0de",
   "metadata": {},
   "source": [
    "# ----------- Sheet 3 - Provider Analysis : Clients"
   ]
  },
  {
   "cell_type": "code",
   "execution_count": 14,
   "id": "2652a29e-e6f1-4cd2-9709-a7f3a0964fca",
   "metadata": {},
   "outputs": [],
   "source": [
    "# Getting the number of clients per provider\n",
    "provider_client_df = required_claims_df.groupby([\"Provider ID\"], as_index=False).agg({\"Client ID\" : \"nunique\"})\n",
    "# Renaming the columns - \n",
    "provider_client_df = provider_client_df.rename(columns={\"Client ID\": \"Number of Clients\"})\n",
    "\n",
    "# Merging with main table - \n",
    "required_claims_df = pd.merge(left = required_claims_df\n",
    "                             , right = provider_client_df\n",
    "                             , how = \"inner\"\n",
    "                             , left_on = \"Provider ID\"\n",
    "                             , right_on = \"Provider ID\")\n",
    "\n",
    "# Getting the required columns -\n",
    "client_analysis_df = required_claims_df[['Provider ID', 'Provider Name', 'Specialty', 'Status'\n",
    "                                        , \"Number of Clients\", 'Client ID', 'Client Name'\n",
    "                                         , 'Date of Birth', 'Gender', 'Enrollment End Date']].drop_duplicates().reset_index(drop=True)"
   ]
  },
  {
   "cell_type": "code",
   "execution_count": 15,
   "id": "7eb2ec9b-d745-4157-ba73-c70bbe3e7082",
   "metadata": {},
   "outputs": [
    {
     "data": {
      "text/html": [
       "<div>\n",
       "<style scoped>\n",
       "    .dataframe tbody tr th:only-of-type {\n",
       "        vertical-align: middle;\n",
       "    }\n",
       "\n",
       "    .dataframe tbody tr th {\n",
       "        vertical-align: top;\n",
       "    }\n",
       "\n",
       "    .dataframe thead th {\n",
       "        text-align: right;\n",
       "    }\n",
       "</style>\n",
       "<table border=\"1\" class=\"dataframe\">\n",
       "  <thead>\n",
       "    <tr style=\"text-align: right;\">\n",
       "      <th></th>\n",
       "      <th>Provider ID</th>\n",
       "      <th>Provider Name</th>\n",
       "      <th>Specialty</th>\n",
       "      <th>Status</th>\n",
       "      <th>Number of Clients</th>\n",
       "      <th>Client ID</th>\n",
       "      <th>Client Name</th>\n",
       "      <th>Date of Birth</th>\n",
       "      <th>Gender</th>\n",
       "      <th>Enrollment End Date</th>\n",
       "    </tr>\n",
       "  </thead>\n",
       "  <tbody>\n",
       "    <tr>\n",
       "      <th>0</th>\n",
       "      <td>P040</td>\n",
       "      <td>Prov_040</td>\n",
       "      <td>Home Health</td>\n",
       "      <td>Active</td>\n",
       "      <td>2</td>\n",
       "      <td>CL0002</td>\n",
       "      <td>Client_1</td>\n",
       "      <td>1950-06-22</td>\n",
       "      <td>Female</td>\n",
       "      <td>2026-03-06</td>\n",
       "    </tr>\n",
       "    <tr>\n",
       "      <th>1</th>\n",
       "      <td>P042</td>\n",
       "      <td>CarePlus Clinic</td>\n",
       "      <td>General Medicine</td>\n",
       "      <td>Inactive</td>\n",
       "      <td>3</td>\n",
       "      <td>CL0003</td>\n",
       "      <td>Client_2</td>\n",
       "      <td>1950-12-12</td>\n",
       "      <td>Female</td>\n",
       "      <td>2025-05-28</td>\n",
       "    </tr>\n",
       "    <tr>\n",
       "      <th>2</th>\n",
       "      <td>P027</td>\n",
       "      <td>Prov_027</td>\n",
       "      <td>Home Health</td>\n",
       "      <td>Inactive</td>\n",
       "      <td>4</td>\n",
       "      <td>CL0005</td>\n",
       "      <td>Client_4</td>\n",
       "      <td>1951-11-22</td>\n",
       "      <td>Male</td>\n",
       "      <td>2022-11-11</td>\n",
       "    </tr>\n",
       "    <tr>\n",
       "      <th>3</th>\n",
       "      <td>P024</td>\n",
       "      <td>Prov_024</td>\n",
       "      <td>Home Health</td>\n",
       "      <td>Active</td>\n",
       "      <td>3</td>\n",
       "      <td>CL0006</td>\n",
       "      <td>Client_5</td>\n",
       "      <td>1952-05-13</td>\n",
       "      <td>Other</td>\n",
       "      <td>2022-09-19</td>\n",
       "    </tr>\n",
       "    <tr>\n",
       "      <th>4</th>\n",
       "      <td>P032</td>\n",
       "      <td>Prov_032</td>\n",
       "      <td>Home Health</td>\n",
       "      <td>Active</td>\n",
       "      <td>4</td>\n",
       "      <td>CL0007</td>\n",
       "      <td>Client_124</td>\n",
       "      <td>1952-11-02</td>\n",
       "      <td>Male</td>\n",
       "      <td>2025-12-20</td>\n",
       "    </tr>\n",
       "  </tbody>\n",
       "</table>\n",
       "</div>"
      ],
      "text/plain": [
       "  Provider ID    Provider Name         Specialty    Status  Number of Clients  \\\n",
       "0        P040         Prov_040       Home Health    Active                  2   \n",
       "1        P042  CarePlus Clinic  General Medicine  Inactive                  3   \n",
       "2        P027         Prov_027       Home Health  Inactive                  4   \n",
       "3        P024         Prov_024       Home Health    Active                  3   \n",
       "4        P032         Prov_032       Home Health    Active                  4   \n",
       "\n",
       "  Client ID Client Name Date of Birth  Gender Enrollment End Date  \n",
       "0    CL0002    Client_1    1950-06-22  Female          2026-03-06  \n",
       "1    CL0003    Client_2    1950-12-12  Female          2025-05-28  \n",
       "2    CL0005    Client_4    1951-11-22    Male          2022-11-11  \n",
       "3    CL0006    Client_5    1952-05-13   Other          2022-09-19  \n",
       "4    CL0007  Client_124    1952-11-02    Male          2025-12-20  "
      ]
     },
     "execution_count": 15,
     "metadata": {},
     "output_type": "execute_result"
    }
   ],
   "source": [
    "client_analysis_df.head()"
   ]
  },
  {
   "cell_type": "code",
   "execution_count": 16,
   "id": "56a6faea-443e-4bb2-bc4d-0a1c114cfa4b",
   "metadata": {},
   "outputs": [],
   "source": [
    "# ------------------------- DF ready for SHEET 3 : client_analysis_df (will be saved at the end)"
   ]
  },
  {
   "cell_type": "code",
   "execution_count": null,
   "id": "5511b948-1670-4010-8b17-5074dcb02179",
   "metadata": {},
   "outputs": [],
   "source": []
  },
  {
   "cell_type": "markdown",
   "id": "b78a8fec-4b52-4e6d-8b9f-61c010a219f1",
   "metadata": {},
   "source": [
    "# ----------- Sheet 4 - Outlier Analysis"
   ]
  },
  {
   "cell_type": "markdown",
   "id": "2d67fdae-4596-4798-8d00-6d14722489aa",
   "metadata": {},
   "source": [
    "### Outlier Analysis as per provider -"
   ]
  },
  {
   "cell_type": "code",
   "execution_count": 17,
   "id": "81f47df8-7005-4efa-8f74-ab50a238f37e",
   "metadata": {},
   "outputs": [],
   "source": [
    "# Creating copy of the df -\n",
    "payment_analysis_outlier_df = payment_analysis_df.copy()"
   ]
  },
  {
   "cell_type": "code",
   "execution_count": 18,
   "id": "22c87145-13d3-4882-8e56-bd1aa312174d",
   "metadata": {},
   "outputs": [
    {
     "data": {
      "image/png": "[encoded data removed]",
      "text/plain": [
       "<Figure size 1000x600 with 2 Axes>"
      ]
     },
     "metadata": {},
     "output_type": "display_data"
    }
   ],
   "source": [
    "# ----------- Starting with the visual inspection on both columns\n",
    "\n",
    "# Creating figure and subplots stacked vertically together for easy reading\n",
    "fig, (ax1, ax2) = plt.subplots(2, 1, figsize=(10, 6))\n",
    "\n",
    "# ---- Sorting by Paid amount\n",
    "payment_analysis_outlier_df = payment_analysis_outlier_df.sort_values('Total Paid-Amount', ascending=False)\n",
    "\n",
    "# Plotting Bar-plot \n",
    "ax1.bar(payment_analysis_outlier_df['Provider ID'], payment_analysis_outlier_df['Total Paid-Amount'])\n",
    "ax1.set_title('Providers by Amount Paid')\n",
    "ax1.set_xlabel('Provider')\n",
    "ax1.set_ylabel('Amount Paid ($)')\n",
    "ax1.tick_params(axis='x', rotation=90, labelright=False, labelleft=True)\n",
    "\n",
    "# ---- Sorting by Paid amount\n",
    "payment_analysis_outlier_df = payment_analysis_outlier_df.sort_values('Average Paid-Amount per Claim', ascending=False)\n",
    "\n",
    "# Plotting Bar-plot \n",
    "ax2.bar(payment_analysis_outlier_df['Provider ID'], payment_analysis_outlier_df['Average Paid-Amount per Claim'])\n",
    "ax2.set_title('Providers by Average Paid-Amount per Claim')\n",
    "ax2.set_xlabel('Provider')\n",
    "ax2.set_ylabel('Average Paid-Amount per Claim ($)')\n",
    "ax2.tick_params(axis='x', rotation=90, labelright=False, labelleft=True)\n",
    "\n",
    "plt.tight_layout()\n",
    "plt.show()"
   ]
  },
  {
   "cell_type": "code",
   "execution_count": 19,
   "id": "7d5edeb8-ead1-49c4-a187-f550d69fc418",
   "metadata": {},
   "outputs": [],
   "source": [
    "# Provider P052 clearly stands out. In both average amount paid and total amount paid"
   ]
  },
  {
   "cell_type": "code",
   "execution_count": null,
   "id": "d961c15e-07a9-44a2-b6c7-14fce709db1c",
   "metadata": {},
   "outputs": [],
   "source": []
  },
  {
   "cell_type": "code",
   "execution_count": 20,
   "id": "a72229dc-8f6c-4635-b841-7f6aaa04402a",
   "metadata": {},
   "outputs": [
    {
     "name": "stderr",
     "output_type": "stream",
     "text": [
      "C:\\Users\\Venu_Thota\\AppData\\Local\\Temp\\ipykernel_21140\\1827166372.py:3: MatplotlibDeprecationWarning: The 'labels' parameter of boxplot() has been renamed 'tick_labels' since Matplotlib 3.9; support for the old name will be dropped in 3.11.\n",
      "  ax.boxplot([payment_analysis_outlier_df['Total Paid-Amount']\n"
     ]
    },
    {
     "data": {
      "image/png": "[encoded data removed]",
      "text/plain": [
       "<Figure size 600x300 with 1 Axes>"
      ]
     },
     "metadata": {},
     "output_type": "display_data"
    }
   ],
   "source": [
    "# ----------- Creating box plot of both Total amount and Average amount\n",
    "fig, ax = plt.subplots(figsize=(6, 3))\n",
    "ax.boxplot([payment_analysis_outlier_df['Total Paid-Amount']\n",
    "            , payment_analysis_outlier_df['Average Paid-Amount per Claim']], labels=['Total Paid-Amount', 'Average Paid-Amount per Claim'])\n",
    "ax.set_title('Distribution of Paid Amounts')\n",
    "ax.set_ylabel('Amount ($)')\n",
    "plt.tight_layout()\n",
    "plt.show()"
   ]
  },
  {
   "cell_type": "code",
   "execution_count": null,
   "id": "abc5d2f9-5253-4f18-b5d8-93bafb25f3a8",
   "metadata": {},
   "outputs": [],
   "source": []
  },
  {
   "cell_type": "code",
   "execution_count": 21,
   "id": "b7e85579-fbb3-48ea-afa3-5d90e7d86bfa",
   "metadata": {},
   "outputs": [],
   "source": [
    "# ----------------------- Above we did visual analysis of how the providers were behaving.\n",
    "#  --Let's use IQR to see if we have any more outliers present. IQR Method handles skewed data well, and isn’t affected by extreme values. It worked better than methods like Z-score, which assume a normal distribution—something medical claims data often doesn’t follow\n",
    "\n",
    "# --------------- As per Total Paid Amount\n",
    "\n",
    "# Generating Q1, Q3, IQR\n",
    "Q1_total_paid_amount = payment_analysis_outlier_df['Total Paid-Amount'].quantile(0.25)\n",
    "Q3_total_paid_amount = payment_analysis_outlier_df['Total Paid-Amount'].quantile(0.75)\n",
    "IQR_total_paid_amount = Q3_total_paid_amount - Q1_total_paid_amount\n",
    "\n",
    "# Generating respective lower and upper bound\n",
    "lower_bound_total_paid_amount = Q1_total_paid_amount - 1.5 * IQR_total_paid_amount\n",
    "upper_bound_total_paid_amount = Q3_total_paid_amount + 1.5 * IQR_total_paid_amount\n",
    "\n",
    "# Creating the outlier flag - \n",
    "payment_analysis_outlier_df['Total Paid-Amount outlier flag'] = np.where((payment_analysis_outlier_df['Total Paid-Amount'] < lower_bound_total_paid_amount) \n",
    "                                                                          | (payment_analysis_outlier_df['Total Paid-Amount'] > upper_bound_total_paid_amount)\n",
    "                                                                          , 1\n",
    "                                                                          , 0)\n",
    "\n",
    "# --------------- As per Average Amount per claim\n",
    "\n",
    "# Generating Q1, Q3, IQR\n",
    "Q1_average_paid_amount = payment_analysis_outlier_df['Average Paid-Amount per Claim'].quantile(0.25)\n",
    "Q3_average_paid_amount = payment_analysis_outlier_df['Average Paid-Amount per Claim'].quantile(0.75)\n",
    "IQR_average_paid_amount = Q3_average_paid_amount - Q1_average_paid_amount\n",
    "\n",
    "# Generating respective lower and upper bound\n",
    "lower_bound_average_paid_amount = Q1_average_paid_amount - 1.5 * IQR_average_paid_amount\n",
    "upper_bound_average_paid_amount = Q3_average_paid_amount + 1.5 * IQR_average_paid_amount\n",
    "\n",
    "# Creating the outlier flag - \n",
    "payment_analysis_outlier_df['Average Paid-Amount outlier flag'] = np.where((payment_analysis_outlier_df['Average Paid-Amount per Claim'] < lower_bound_average_paid_amount) \n",
    "                                                                          | (payment_analysis_outlier_df['Average Paid-Amount per Claim'] > upper_bound_average_paid_amount)\n",
    "                                                                          , 1\n",
    "                                                                          , 0)"
   ]
  },
  {
   "cell_type": "code",
   "execution_count": 22,
   "id": "7b216f94-7e37-4021-8e87-fec162c80df3",
   "metadata": {},
   "outputs": [
    {
     "data": {
      "text/html": [
       "<div>\n",
       "<style scoped>\n",
       "    .dataframe tbody tr th:only-of-type {\n",
       "        vertical-align: middle;\n",
       "    }\n",
       "\n",
       "    .dataframe tbody tr th {\n",
       "        vertical-align: top;\n",
       "    }\n",
       "\n",
       "    .dataframe thead th {\n",
       "        text-align: right;\n",
       "    }\n",
       "</style>\n",
       "<table border=\"1\" class=\"dataframe\">\n",
       "  <thead>\n",
       "    <tr style=\"text-align: right;\">\n",
       "      <th></th>\n",
       "      <th>Provider ID</th>\n",
       "      <th>Provider Name</th>\n",
       "      <th>Number of Claims Submitted</th>\n",
       "      <th>Total Paid-Amount</th>\n",
       "      <th>Average Paid-Amount per Claim</th>\n",
       "      <th>Total Paid-Amount outlier flag</th>\n",
       "      <th>Average Paid-Amount outlier flag</th>\n",
       "    </tr>\n",
       "  </thead>\n",
       "  <tbody>\n",
       "    <tr>\n",
       "      <th>48</th>\n",
       "      <td>P052</td>\n",
       "      <td>XYZ Health</td>\n",
       "      <td>2</td>\n",
       "      <td>2782.36</td>\n",
       "      <td>1391.18</td>\n",
       "      <td>1</td>\n",
       "      <td>1</td>\n",
       "    </tr>\n",
       "  </tbody>\n",
       "</table>\n",
       "</div>"
      ],
      "text/plain": [
       "   Provider ID Provider Name  Number of Claims Submitted  Total Paid-Amount  \\\n",
       "48        P052    XYZ Health                           2            2782.36   \n",
       "\n",
       "    Average Paid-Amount per Claim  Total Paid-Amount outlier flag  \\\n",
       "48                        1391.18                               1   \n",
       "\n",
       "    Average Paid-Amount outlier flag  \n",
       "48                                 1  "
      ]
     },
     "execution_count": 22,
     "metadata": {},
     "output_type": "execute_result"
    }
   ],
   "source": [
    "# Checking the outlier flags - \n",
    "payment_analysis_outlier_df[payment_analysis_outlier_df['Total Paid-Amount outlier flag']==1]"
   ]
  },
  {
   "cell_type": "code",
   "execution_count": 23,
   "id": "34f1d2e4-d90a-4a14-b6f1-3a99b12b3e39",
   "metadata": {},
   "outputs": [
    {
     "data": {
      "text/html": [
       "<div>\n",
       "<style scoped>\n",
       "    .dataframe tbody tr th:only-of-type {\n",
       "        vertical-align: middle;\n",
       "    }\n",
       "\n",
       "    .dataframe tbody tr th {\n",
       "        vertical-align: top;\n",
       "    }\n",
       "\n",
       "    .dataframe thead th {\n",
       "        text-align: right;\n",
       "    }\n",
       "</style>\n",
       "<table border=\"1\" class=\"dataframe\">\n",
       "  <thead>\n",
       "    <tr style=\"text-align: right;\">\n",
       "      <th></th>\n",
       "      <th>Provider ID</th>\n",
       "      <th>Provider Name</th>\n",
       "      <th>Number of Claims Submitted</th>\n",
       "      <th>Total Paid-Amount</th>\n",
       "      <th>Average Paid-Amount per Claim</th>\n",
       "      <th>Total Paid-Amount outlier flag</th>\n",
       "      <th>Average Paid-Amount outlier flag</th>\n",
       "    </tr>\n",
       "  </thead>\n",
       "  <tbody>\n",
       "    <tr>\n",
       "      <th>48</th>\n",
       "      <td>P052</td>\n",
       "      <td>XYZ Health</td>\n",
       "      <td>2</td>\n",
       "      <td>2782.36</td>\n",
       "      <td>1391.18</td>\n",
       "      <td>1</td>\n",
       "      <td>1</td>\n",
       "    </tr>\n",
       "    <tr>\n",
       "      <th>28</th>\n",
       "      <td>P031</td>\n",
       "      <td>Mesa Health</td>\n",
       "      <td>3</td>\n",
       "      <td>1227.72</td>\n",
       "      <td>409.24</td>\n",
       "      <td>0</td>\n",
       "      <td>1</td>\n",
       "    </tr>\n",
       "  </tbody>\n",
       "</table>\n",
       "</div>"
      ],
      "text/plain": [
       "   Provider ID Provider Name  Number of Claims Submitted  Total Paid-Amount  \\\n",
       "48        P052    XYZ Health                           2            2782.36   \n",
       "28        P031   Mesa Health                           3            1227.72   \n",
       "\n",
       "    Average Paid-Amount per Claim  Total Paid-Amount outlier flag  \\\n",
       "48                        1391.18                               1   \n",
       "28                         409.24                               0   \n",
       "\n",
       "    Average Paid-Amount outlier flag  \n",
       "48                                 1  \n",
       "28                                 1  "
      ]
     },
     "execution_count": 23,
     "metadata": {},
     "output_type": "execute_result"
    }
   ],
   "source": [
    "payment_analysis_outlier_df[payment_analysis_outlier_df['Average Paid-Amount outlier flag']==1]"
   ]
  },
  {
   "cell_type": "code",
   "execution_count": null,
   "id": "ec875b6d-d775-4f77-ad69-a5f1e7570c05",
   "metadata": {},
   "outputs": [],
   "source": []
  },
  {
   "cell_type": "code",
   "execution_count": 24,
   "id": "7b86b0c6-f496-4d09-99a3-ce8d98cc9fe1",
   "metadata": {},
   "outputs": [],
   "source": [
    "# Combining both flags into 1 as Payment flag\n",
    "payment_analysis_outlier_df['Payment Outlier Flag'] = payment_analysis_outlier_df[['Total Paid-Amount outlier flag','Average Paid-Amount outlier flag']].max(axis=1)\n",
    "# Dropping the other 2 flags\n",
    "payment_analysis_outlier_df = payment_analysis_outlier_df.drop(['Total Paid-Amount outlier flag','Average Paid-Amount outlier flag'], axis=1)"
   ]
  },
  {
   "cell_type": "code",
   "execution_count": null,
   "id": "5bdda6c3-514c-4d23-8517-8f9105bcded3",
   "metadata": {},
   "outputs": [],
   "source": []
  },
  {
   "cell_type": "code",
   "execution_count": null,
   "id": "c548bfe1-4a14-4843-929e-2667fff81ad8",
   "metadata": {},
   "outputs": [],
   "source": []
  },
  {
   "cell_type": "markdown",
   "id": "a61196db-e99e-4358-9b92-46eea77cd6b8",
   "metadata": {},
   "source": [
    "### Outlier Analysis as per clients -"
   ]
  },
  {
   "cell_type": "code",
   "execution_count": 25,
   "id": "c6ce79a6-cb4f-429b-b01e-3bc3a5349a76",
   "metadata": {},
   "outputs": [],
   "source": [
    "# Creating copy of the df -\n",
    "client_analysis_outlier_df = client_analysis_df[['Provider ID', 'Number of Clients']].drop_duplicates().reset_index(drop=True)"
   ]
  },
  {
   "cell_type": "code",
   "execution_count": 26,
   "id": "ca3e57c0-05c9-41d3-aaf3-c930900c4242",
   "metadata": {},
   "outputs": [
    {
     "data": {
      "image/png": "[encoded data removed]",
      "text/plain": [
       "<Figure size 1000x500 with 1 Axes>"
      ]
     },
     "metadata": {},
     "output_type": "display_data"
    }
   ],
   "source": [
    "# ----------- Using similar approach, starting with visual inspection\n",
    "\n",
    "# ---- Sorting by number of unique clients\n",
    "client_analysis_outlier_df = client_analysis_outlier_df.sort_values('Number of Clients', ascending=False)\n",
    "\n",
    "fig, ax = plt.subplots(figsize=(10, 5))\n",
    "ax.bar(client_analysis_outlier_df['Provider ID'], client_analysis_outlier_df['Number of Clients'])\n",
    "ax.set_title('Providers by Unique number of Clients')\n",
    "ax.set_xlabel('Providers')\n",
    "ax.set_ylabel('Number of Clients')\n",
    "plt.xticks(rotation=90, ha='right')\n",
    "plt.tight_layout()\n",
    "plt.show()"
   ]
  },
  {
   "cell_type": "code",
   "execution_count": 27,
   "id": "3b5a9cf1-6fe9-432a-bb8c-97ceee3bc242",
   "metadata": {},
   "outputs": [],
   "source": [
    "# visually, we can't seem to any one particular provider stand out except for the 1 with 7 unique clients.\n",
    "# Let's see what the Box-plot shows us"
   ]
  },
  {
   "cell_type": "code",
   "execution_count": 28,
   "id": "ad5f1868-2a2b-4fa9-819d-3473cc37891c",
   "metadata": {},
   "outputs": [
    {
     "data": {
      "image/png": "[encoded data removed]",
      "text/plain": [
       "<Figure size 600x300 with 1 Axes>"
      ]
     },
     "metadata": {},
     "output_type": "display_data"
    }
   ],
   "source": [
    "# ----------- Creating box plot of Unique number of clients\n",
    "fig, ax = plt.subplots(figsize=(6, 3))\n",
    "ax.boxplot(client_analysis_outlier_df['Number of Clients'])\n",
    "ax.set_title('Distribution of Unique Clients')\n",
    "ax.set_ylabel('Numer of clients')\n",
    "plt.tight_layout()\n",
    "plt.show()"
   ]
  },
  {
   "cell_type": "code",
   "execution_count": 29,
   "id": "f15e07db-fbe0-4b4a-91cc-432cc2ad2e46",
   "metadata": {},
   "outputs": [],
   "source": [
    "# Again nothing stands out.\n",
    "# Let's see if the we get something from IQR"
   ]
  },
  {
   "cell_type": "code",
   "execution_count": 30,
   "id": "101538e0-0ea9-4f32-b478-5c06c93af25c",
   "metadata": {},
   "outputs": [],
   "source": [
    "# ----------------------- Above we did visual analysis of how the providers were behaving.\n",
    "#                         Let's use IQR to see if we have any outliers present\n",
    "\n",
    "# --------------- As per Number of clients\n",
    "\n",
    "# Generating Q1, Q3, IQR\n",
    "Q1_number_clients = client_analysis_outlier_df['Number of Clients'].quantile(0.25)\n",
    "Q3_number_clients = client_analysis_outlier_df['Number of Clients'].quantile(0.75)\n",
    "IQR_number_clients = Q3_number_clients - Q1_number_clients\n",
    "\n",
    "# Generating respective lower and upper bound\n",
    "lower_bound_number_clients = Q1_number_clients - 1.5 * IQR_number_clients\n",
    "upper_bound_number_clients = Q3_number_clients + 1.5 * IQR_number_clients\n",
    "\n",
    "# Creating the outlier flag - \n",
    "client_analysis_outlier_df['Number of Clients outlier flag'] = np.where((client_analysis_outlier_df['Number of Clients'] < lower_bound_number_clients) \n",
    "                                                                          | (client_analysis_outlier_df['Number of Clients'] > upper_bound_number_clients)\n",
    "                                                                          , 1\n",
    "                                                                          , 0)"
   ]
  },
  {
   "cell_type": "code",
   "execution_count": 31,
   "id": "3080de4d-10b6-4840-8da4-fd878fc4f7e0",
   "metadata": {},
   "outputs": [
    {
     "data": {
      "text/plain": [
       "Number of Clients outlier flag\n",
       "0    60\n",
       "Name: count, dtype: int64"
      ]
     },
     "execution_count": 31,
     "metadata": {},
     "output_type": "execute_result"
    }
   ],
   "source": [
    "client_analysis_outlier_df['Number of Clients outlier flag'].value_counts()"
   ]
  },
  {
   "cell_type": "code",
   "execution_count": null,
   "id": "07519fa9-4052-445d-bad9-7af56c200828",
   "metadata": {},
   "outputs": [],
   "source": []
  },
  {
   "cell_type": "markdown",
   "id": "1e7ff419-45bd-490e-9492-82f23411a2d2",
   "metadata": {},
   "source": [
    "### Outlier Analysis as per gender -"
   ]
  },
  {
   "cell_type": "code",
   "execution_count": 32,
   "id": "64acf11e-7c53-49a0-8e8d-29c07370de3a",
   "metadata": {},
   "outputs": [],
   "source": [
    "# ---------------------- Checking the claims as per gender by each provider\n",
    "\n",
    "# Creating grouped Df - \n",
    "# provider_gender_df = required_claims_df.groupby([\"Provider ID\", \"Gender\"], as_index=False).agg({\"Paid Amount ($)\" : \"sum\"})\n",
    "provider_gender_df = required_claims_df.groupby(['Provider ID', 'Gender'])['Paid Amount ($)'].sum()\n",
    "# Renaming the columns - \n",
    "# provider_gender_df = provider_gender_df.rename(columns={\"Paid Amount ($)\": \"Total Paid-Amount\"})"
   ]
  },
  {
   "cell_type": "code",
   "execution_count": 33,
   "id": "1dd13eba-fcce-4102-8736-8c0ef8161026",
   "metadata": {},
   "outputs": [
    {
     "data": {
      "text/plain": [
       "Provider ID  Gender\n",
       "P001         Female    428.79\n",
       "             Male      100.90\n",
       "             Other     336.98\n",
       "P002         Female    333.77\n",
       "             Other     267.74\n",
       "Name: Paid Amount ($), dtype: float64"
      ]
     },
     "execution_count": 33,
     "metadata": {},
     "output_type": "execute_result"
    }
   ],
   "source": [
    "provider_gender_df.head()"
   ]
  },
  {
   "cell_type": "code",
   "execution_count": 34,
   "id": "b7690942-3996-41fc-b321-086ef911ce04",
   "metadata": {},
   "outputs": [],
   "source": [
    "# Making column per gender\n",
    "provider_gender_df = provider_gender_df.unstack(level='Gender', fill_value=0)\n",
    "provider_gender_df = provider_gender_df.reset_index()"
   ]
  },
  {
   "cell_type": "code",
   "execution_count": null,
   "id": "33b3b243-5f8a-4dc5-97ca-b1da36beb404",
   "metadata": {
    "scrolled": true
   },
   "outputs": [],
   "source": []
  },
  {
   "cell_type": "code",
   "execution_count": 35,
   "id": "3428f0db-0a2e-4a79-9e7a-80f823291328",
   "metadata": {},
   "outputs": [
    {
     "data": {
      "image/png": "[encoded data removed]",
      "text/plain": [
       "<Figure size 1000x800 with 3 Axes>"
      ]
     },
     "metadata": {},
     "output_type": "display_data"
    }
   ],
   "source": [
    "# ----------- Starting with the visual inspection on both columns\n",
    "\n",
    "# Creating figure and subplots stacked vertically together for easy reading\n",
    "fig, (ax1, ax2, ax3) = plt.subplots(3, 1, figsize=(10, 8))\n",
    "\n",
    "# ---- Sorting by Female Paid amount\n",
    "provider_gender_df = provider_gender_df.sort_values('Female', ascending=False)\n",
    "\n",
    "# Plotting Bar-plot \n",
    "ax1.bar(provider_gender_df['Provider ID'], provider_gender_df['Female'])\n",
    "ax1.set_title('Providers by Amount Paid (Female Clients)')\n",
    "ax1.set_xlabel('Provider')\n",
    "ax1.set_ylabel('Amount Paid ($)')\n",
    "ax1.tick_params(axis='x', rotation=90, labelright=False, labelleft=True)\n",
    "\n",
    "# ---- Sorting by Male Paid amount\n",
    "provider_gender_df = provider_gender_df.sort_values('Male', ascending=False)\n",
    "\n",
    "# Plotting Bar-plot \n",
    "ax2.bar(provider_gender_df['Provider ID'], provider_gender_df['Male'])\n",
    "ax2.set_title('Providers by Amount Paid (Male Clients)')\n",
    "ax2.set_xlabel('Provider')\n",
    "ax2.set_ylabel('Amount Paid ($)')\n",
    "ax2.tick_params(axis='x', rotation=90, labelright=False, labelleft=True)\n",
    "\n",
    "# ---- Sorting by Other Paid amount\n",
    "provider_gender_df = provider_gender_df.sort_values('Other', ascending=False)\n",
    "\n",
    "# Plotting Bar-plot \n",
    "ax3.bar(provider_gender_df['Provider ID'], provider_gender_df['Other'])\n",
    "ax3.set_title('Providers by Amount Paid (Other Clients)')\n",
    "ax3.set_xlabel('Provider')\n",
    "ax3.set_ylabel('Amount Paid ($)')\n",
    "ax3.tick_params(axis='x', rotation=90, labelright=False, labelleft=True)\n",
    "\n",
    "plt.tight_layout()\n",
    "plt.show()"
   ]
  },
  {
   "cell_type": "code",
   "execution_count": null,
   "id": "5961cfce-47ff-4540-a37d-29145e961c8a",
   "metadata": {},
   "outputs": [],
   "source": []
  },
  {
   "cell_type": "code",
   "execution_count": 36,
   "id": "5d41ac45-0c40-45f4-a459-d1f9ba0d0763",
   "metadata": {},
   "outputs": [],
   "source": [
    "provider_gender_df['Avoiding 1 gender flag'] = np.where(((provider_gender_df['Female'] == 0) & (provider_gender_df['Male'] == 0))\n",
    "                                                        | ((provider_gender_df['Female'] == 0) & (provider_gender_df['Other'] == 0))\n",
    "                                                        | ((provider_gender_df['Male'] == 0) & (provider_gender_df['Other'] == 0))\n",
    "                                                        , 1\n",
    "                                                        , 0)"
   ]
  },
  {
   "cell_type": "code",
   "execution_count": 37,
   "id": "a25ccba3-e0fd-4ddb-8524-688bd325395b",
   "metadata": {},
   "outputs": [
    {
     "data": {
      "text/plain": [
       "Avoiding 1 gender flag\n",
       "0    39\n",
       "1    21\n",
       "Name: count, dtype: int64"
      ]
     },
     "execution_count": 37,
     "metadata": {},
     "output_type": "execute_result"
    }
   ],
   "source": [
    "provider_gender_df['Avoiding 1 gender flag'].value_counts()"
   ]
  },
  {
   "cell_type": "code",
   "execution_count": 38,
   "id": "8515cadc-4a8f-4786-ba51-46fd022f0a4e",
   "metadata": {},
   "outputs": [],
   "source": [
    "# Here we can see approx 33% of providers, don't cater to 1 gender at all. \n",
    "# Let's see how many of them have most claim amount - \n",
    "client_analysis_outlier_df = pd.merge(left = client_analysis_outlier_df\n",
    "                             , right = provider_gender_df\n",
    "                             , how = 'inner'\n",
    "                             , left_on = 'Provider ID'\n",
    "                             , right_on = 'Provider ID')"
   ]
  },
  {
   "cell_type": "code",
   "execution_count": 39,
   "id": "8a9d3393-58a6-42ff-8e29-3194b0c67903",
   "metadata": {},
   "outputs": [],
   "source": [
    "# Combvining this with Client Outlier flag\n",
    "client_analysis_outlier_df['Client Outlier Flag'] = client_analysis_outlier_df[['Number of Clients outlier flag','Avoiding 1 gender flag']].max(axis=1)\n",
    "client_analysis_outlier_df = client_analysis_outlier_df.drop(['Number of Clients outlier flag','Avoiding 1 gender flag'], axis=1)"
   ]
  },
  {
   "cell_type": "code",
   "execution_count": 40,
   "id": "63d2af74-2f69-4b5b-82be-3412bc3a6b84",
   "metadata": {},
   "outputs": [
    {
     "data": {
      "text/html": [
       "<div>\n",
       "<style scoped>\n",
       "    .dataframe tbody tr th:only-of-type {\n",
       "        vertical-align: middle;\n",
       "    }\n",
       "\n",
       "    .dataframe tbody tr th {\n",
       "        vertical-align: top;\n",
       "    }\n",
       "\n",
       "    .dataframe thead th {\n",
       "        text-align: right;\n",
       "    }\n",
       "</style>\n",
       "<table border=\"1\" class=\"dataframe\">\n",
       "  <thead>\n",
       "    <tr style=\"text-align: right;\">\n",
       "      <th></th>\n",
       "      <th>Provider ID</th>\n",
       "      <th>Number of Clients</th>\n",
       "      <th>Female</th>\n",
       "      <th>Male</th>\n",
       "      <th>Other</th>\n",
       "      <th>Client Outlier Flag</th>\n",
       "    </tr>\n",
       "  </thead>\n",
       "  <tbody>\n",
       "    <tr>\n",
       "      <th>0</th>\n",
       "      <td>P036</td>\n",
       "      <td>7</td>\n",
       "      <td>515.22</td>\n",
       "      <td>554.96</td>\n",
       "      <td>248.22</td>\n",
       "      <td>0</td>\n",
       "    </tr>\n",
       "    <tr>\n",
       "      <th>1</th>\n",
       "      <td>P012</td>\n",
       "      <td>6</td>\n",
       "      <td>696.54</td>\n",
       "      <td>0.00</td>\n",
       "      <td>712.92</td>\n",
       "      <td>0</td>\n",
       "    </tr>\n",
       "    <tr>\n",
       "      <th>2</th>\n",
       "      <td>P005</td>\n",
       "      <td>6</td>\n",
       "      <td>535.46</td>\n",
       "      <td>290.87</td>\n",
       "      <td>536.57</td>\n",
       "      <td>0</td>\n",
       "    </tr>\n",
       "    <tr>\n",
       "      <th>3</th>\n",
       "      <td>P047</td>\n",
       "      <td>5</td>\n",
       "      <td>0.00</td>\n",
       "      <td>462.44</td>\n",
       "      <td>571.42</td>\n",
       "      <td>0</td>\n",
       "    </tr>\n",
       "    <tr>\n",
       "      <th>4</th>\n",
       "      <td>P039</td>\n",
       "      <td>5</td>\n",
       "      <td>619.93</td>\n",
       "      <td>127.37</td>\n",
       "      <td>170.39</td>\n",
       "      <td>0</td>\n",
       "    </tr>\n",
       "  </tbody>\n",
       "</table>\n",
       "</div>"
      ],
      "text/plain": [
       "  Provider ID  Number of Clients  Female    Male   Other  Client Outlier Flag\n",
       "0        P036                  7  515.22  554.96  248.22                    0\n",
       "1        P012                  6  696.54    0.00  712.92                    0\n",
       "2        P005                  6  535.46  290.87  536.57                    0\n",
       "3        P047                  5    0.00  462.44  571.42                    0\n",
       "4        P039                  5  619.93  127.37  170.39                    0"
      ]
     },
     "execution_count": 40,
     "metadata": {},
     "output_type": "execute_result"
    }
   ],
   "source": [
    "client_analysis_outlier_df.head()"
   ]
  },
  {
   "cell_type": "markdown",
   "id": "f6a7f708-917d-491b-9806-90c945a39979",
   "metadata": {},
   "source": [
    "### Outlier Analysis as per claim dates -"
   ]
  },
  {
   "cell_type": "code",
   "execution_count": 41,
   "id": "55ee4e1e-9264-439f-ab77-581f853f4838",
   "metadata": {},
   "outputs": [],
   "source": [
    "# ---- Enrollment and claim date check\n",
    "# Analyzing if any payments were made outside the 6-month 'grace' period"
   ]
  },
  {
   "cell_type": "code",
   "execution_count": 42,
   "id": "02936d62-496f-46e0-9da4-2e4828ee48d9",
   "metadata": {},
   "outputs": [
    {
     "data": {
      "text/plain": [
       "Enrollment_Claim_Date_Breach_Flag\n",
       "0    177\n",
       "Name: count, dtype: int64"
      ]
     },
     "execution_count": 42,
     "metadata": {},
     "output_type": "execute_result"
    }
   ],
   "source": [
    "# First setting the 6 month offset \n",
    "six_months = pd.DateOffset(months=6)\n",
    "\n",
    "# Filtering to see how many claims during our analysis period were out of this date range\n",
    "required_claims_df['Enrollment_Claim_Date_Breach_Flag'] = np.where((required_claims_df[\"Enrollment End Date\"] < required_claims_df[\"From Service Date\"] - six_months) &\n",
    "                                                                    (required_claims_df[\"Enrollment Start Date\"] > required_claims_df[\"To Service Date\"] + six_months)\n",
    "                                                                  , 1\n",
    "                                                                  , 0)\n",
    "\n",
    "required_claims_df['Enrollment_Claim_Date_Breach_Flag'].value_counts()"
   ]
  },
  {
   "cell_type": "code",
   "execution_count": 43,
   "id": "f7cacaac-1aa1-4d08-bb3c-ee863a61a50e",
   "metadata": {},
   "outputs": [
    {
     "data": {
      "text/html": [
       "<div>\n",
       "<style scoped>\n",
       "    .dataframe tbody tr th:only-of-type {\n",
       "        vertical-align: middle;\n",
       "    }\n",
       "\n",
       "    .dataframe tbody tr th {\n",
       "        vertical-align: top;\n",
       "    }\n",
       "\n",
       "    .dataframe thead th {\n",
       "        text-align: right;\n",
       "    }\n",
       "</style>\n",
       "<table border=\"1\" class=\"dataframe\">\n",
       "  <thead>\n",
       "    <tr style=\"text-align: right;\">\n",
       "      <th></th>\n",
       "      <th>Claim ID</th>\n",
       "      <th>Provider ID</th>\n",
       "      <th>Client ID</th>\n",
       "      <th>Proc Code</th>\n",
       "      <th>Claim Status Code</th>\n",
       "      <th>From Service Date</th>\n",
       "      <th>To Service Date</th>\n",
       "      <th>Billed Amount ($)</th>\n",
       "      <th>Paid Amount ($)</th>\n",
       "      <th>Provider Name</th>\n",
       "      <th>Specialty</th>\n",
       "      <th>Enrollment Date</th>\n",
       "      <th>Status</th>\n",
       "      <th>Client Name</th>\n",
       "      <th>Date of Birth</th>\n",
       "      <th>Gender</th>\n",
       "      <th>Enrollment Start Date</th>\n",
       "      <th>Enrollment End Date</th>\n",
       "      <th>Description</th>\n",
       "      <th>Typical Duration (hrs)</th>\n",
       "      <th>Category</th>\n",
       "      <th>Type of Service</th>\n",
       "      <th>Number of Clients</th>\n",
       "      <th>Enrollment_Claim_Date_Breach_Flag</th>\n",
       "    </tr>\n",
       "  </thead>\n",
       "  <tbody>\n",
       "  </tbody>\n",
       "</table>\n",
       "</div>"
      ],
      "text/plain": [
       "Empty DataFrame\n",
       "Columns: [Claim ID, Provider ID, Client ID, Proc Code, Claim Status Code, From Service Date, To Service Date, Billed Amount ($), Paid Amount ($), Provider Name, Specialty, Enrollment Date, Status, Client Name, Date of Birth, Gender, Enrollment Start Date, Enrollment End Date, Description, Typical Duration (hrs), Category, Type of Service, Number of Clients, Enrollment_Claim_Date_Breach_Flag]\n",
       "Index: []"
      ]
     },
     "execution_count": 43,
     "metadata": {},
     "output_type": "execute_result"
    }
   ],
   "source": [
    "required_claims_df[required_claims_df['Enrollment_Claim_Date_Breach_Flag'] == 1].head()"
   ]
  },
  {
   "cell_type": "code",
   "execution_count": 44,
   "id": "641541e9-1ff9-48b3-9773-631e0e1db4af",
   "metadata": {},
   "outputs": [],
   "source": [
    "# We see all claims were made within the specified period."
   ]
  },
  {
   "cell_type": "code",
   "execution_count": null,
   "id": "17f3e01b-ac43-4a1c-942a-9d6481fa6780",
   "metadata": {},
   "outputs": [],
   "source": []
  },
  {
   "cell_type": "markdown",
   "id": "5bb9468c-8a15-4799-8146-f38533384757",
   "metadata": {},
   "source": [
    "### Creating final Outlier Sheet -"
   ]
  },
  {
   "cell_type": "code",
   "execution_count": 45,
   "id": "d425804c-d96e-42a4-bcee-085124a1a8b2",
   "metadata": {},
   "outputs": [],
   "source": [
    "# Combining both outliers table \n",
    "final_outlier_df = pd.merge(left = payment_analysis_outlier_df[['Provider ID', 'Provider Name', 'Number of Claims Submitted'\n",
    "                                                                , 'Total Paid-Amount', 'Average Paid-Amount per Claim', 'Payment Outlier Flag']]\n",
    "                           , right = client_analysis_outlier_df[['Provider ID', 'Number of Clients', 'Client Outlier Flag']]\n",
    "                           , how = 'inner'\n",
    "                           , left_on = 'Provider ID'\n",
    "                           , right_on = 'Provider ID')"
   ]
  },
  {
   "cell_type": "code",
   "execution_count": 46,
   "id": "9cd8b979-a008-49a3-8b20-92d95e956a86",
   "metadata": {},
   "outputs": [
    {
     "data": {
      "text/plain": [
       "Index(['Provider ID', 'Number of Clients', 'Female', 'Male', 'Other',\n",
       "       'Client Outlier Flag'],\n",
       "      dtype='object')"
      ]
     },
     "execution_count": 46,
     "metadata": {},
     "output_type": "execute_result"
    }
   ],
   "source": [
    "client_analysis_outlier_df.columns"
   ]
  },
  {
   "cell_type": "code",
   "execution_count": 47,
   "id": "682d4c77-5d38-4a76-8489-62270e9688fc",
   "metadata": {},
   "outputs": [],
   "source": [
    "# ------------------------- DF ready for SHEET 4 : final_outlier_df (will be saved at the end)"
   ]
  },
  {
   "cell_type": "markdown",
   "id": "01d5d2fc-5b4f-4eff-9d83-4f0a8ee402f7",
   "metadata": {},
   "source": [
    "# ----------- Sheet 1 - Summary"
   ]
  },
  {
   "cell_type": "code",
   "execution_count": null,
   "id": "39e63142-ebf9-49b7-90b8-a3c73ddc9300",
   "metadata": {},
   "outputs": [],
   "source": []
  },
  {
   "cell_type": "code",
   "execution_count": 48,
   "id": "2a556013-ab70-42fb-a7b0-b6d94903028f",
   "metadata": {},
   "outputs": [],
   "source": [
    "# Finally creating the summary analysis for the investigators\n",
    "final_summary_df = pd.merge(left = required_claims_df[['Provider ID', 'Provider Name', 'Status', 'Client ID', 'Client Name', 'Date of Birth']]\n",
    "                           , right = final_outlier_df[['Provider ID', 'Number of Clients', 'Number of Claims Submitted', 'Total Paid-Amount'\n",
    "                                                       , 'Average Paid-Amount per Claim', 'Payment Outlier Flag', 'Client Outlier Flag']]\n",
    "                           , how = 'left'\n",
    "                           , left_on = 'Provider ID'\n",
    "                           , right_on = 'Provider ID')\n",
    "\n",
    "# Re-arranging columns\n",
    "final_summary_df = final_summary_df[['Provider ID', 'Provider Name', 'Status', 'Number of Clients'\n",
    "                                     , 'Client ID', 'Client Name', 'Date of Birth', 'Number of Claims Submitted'\n",
    "                                     , 'Total Paid-Amount', 'Average Paid-Amount per Claim', 'Payment Outlier Flag'\n",
    "                                     , 'Client Outlier Flag']]\n",
    "\n",
    "# Sorting by Total Amount paid\n",
    "final_summary_df = final_summary_df.sort_values('Total Paid-Amount', ascending=False).head(10)"
   ]
  },
  {
   "cell_type": "code",
   "execution_count": 49,
   "id": "4875d960-4057-4ca3-bd60-3ec3496c6a98",
   "metadata": {},
   "outputs": [],
   "source": [
    "# ------------------------- DF ready for SHEET 1 : final_summary_df (will be saved at the end)"
   ]
  },
  {
   "cell_type": "code",
   "execution_count": null,
   "id": "9845c252-6a29-4957-8dc6-a7b544637edb",
   "metadata": {},
   "outputs": [],
   "source": []
  },
  {
   "cell_type": "markdown",
   "id": "4994efb9-08c6-4afd-99fa-68079f7997cd",
   "metadata": {},
   "source": [
    "# ----------- Saving Excel sheet"
   ]
  },
  {
   "cell_type": "code",
   "execution_count": 50,
   "id": "cb3e17b5-374d-4bb8-aacd-1d067185d4bf",
   "metadata": {},
   "outputs": [],
   "source": [
    "# Saving the above df in separate excel sheet as requested -\n",
    "with pd.ExcelWriter(\"data/Medicaid_Fraud_Case_OIG_Investigated_Data.xlsx\", engine=\"xlsxwriter\") as writer:\n",
    "    final_summary_df.to_excel(writer, sheet_name=\"Summary\", index=False)\n",
    "    payment_analysis_df.to_excel(writer, sheet_name=\"Payments Analysis\", index=False)\n",
    "    client_analysis_df.to_excel(writer, sheet_name=\"Client Analysis\", index=False)\n",
    "    final_outlier_df.to_excel(writer, sheet_name=\"Outlier Analysis\", index=False)"
   ]
  },
  {
   "cell_type": "code",
   "execution_count": null,
   "id": "41a3e8b2-4a2c-49f7-90b9-dc1b09b1c8a5",
   "metadata": {},
   "outputs": [],
   "source": []
  }
 ],
 "metadata": {
  "kernelspec": {
   "display_name": "Python 3 (ipykernel)",
   "language": "python",
   "name": "python3"
  },
  "language_info": {
   "codemirror_mode": {
    "name": "ipython",
    "version": 3
   },
   "file_extension": ".py",
   "mimetype": "text/x-python",
   "name": "python",
   "nbconvert_exporter": "python",
   "pygments_lexer": "ipython3",
   "version": "3.12.6"
  }
 },
 "nbformat": 4,
 "nbformat_minor": 5
}
