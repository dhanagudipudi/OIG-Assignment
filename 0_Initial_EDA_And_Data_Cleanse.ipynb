{
 "cells": [
  {
   "cell_type": "code",
   "execution_count": 9,
   "id": "7c0790d1-b57f-4284-aa8e-84055231776b",
   "metadata": {},
   "outputs": [],
   "source": [
    "# -------------------------------------------------------------------\n",
    "# -------------------------------------------------------------------\n",
    "# ---------------------- Data Analysis Exercise  \n",
    "# ---------------------- Senior Fraud Data Analyst (DA-IV) \n",
    "# ---------------------- Texas HHS – Office of Inspector General \n",
    "# -------------------------------------------------------------------\n",
    "# -------------------------------------------------------------------"
   ]
  },
  {
   "cell_type": "code",
   "execution_count": 10,
   "id": "ae04cf77-75e0-4b68-b511-5b4405d29375",
   "metadata": {},
   "outputs": [],
   "source": [
    "# -------------------------------------------------------------------\n",
    "# -------------------------- INITIAL EDA AND DATA PREP"
   ]
  },
  {
   "cell_type": "code",
   "execution_count": 11,
   "id": "e864693f-05e9-4de5-9714-8c2707add265",
   "metadata": {},
   "outputs": [],
   "source": [
    "# ------------- Importing required packages\n",
    "import pandas as pd"
   ]
  },
  {
   "cell_type": "code",
   "execution_count": null,
   "id": "c987399e-6afb-4755-86d8-6df5b1e6b9b8",
   "metadata": {},
   "outputs": [],
   "source": []
  },
  {
   "cell_type": "markdown",
   "id": "99e148a1-b676-411c-875f-f58547aa5c48",
   "metadata": {},
   "source": [
    "# ----------------------------- Sheet 1 : Claims"
   ]
  },
  {
   "cell_type": "code",
   "execution_count": 12,
   "id": "9c144fbd-56b5-4e28-bb0e-3ff28fd9f6ba",
   "metadata": {},
   "outputs": [],
   "source": [
    "# Reading in the data from excel -\n",
    "claims_df = pd.read_excel('data/Medicaid_Fraud_Case.xlsx', sheet_name='Claims')"
   ]
  },
  {
   "cell_type": "code",
   "execution_count": 13,
   "id": "d9ae5807-405c-44d2-9e44-b965a7c28d28",
   "metadata": {},
   "outputs": [
    {
     "data": {
      "text/html": [
       "<div>\n",
       "<style scoped>\n",
       "    .dataframe tbody tr th:only-of-type {\n",
       "        vertical-align: middle;\n",
       "    }\n",
       "\n",
       "    .dataframe tbody tr th {\n",
       "        vertical-align: top;\n",
       "    }\n",
       "\n",
       "    .dataframe thead th {\n",
       "        text-align: right;\n",
       "    }\n",
       "</style>\n",
       "<table border=\"1\" class=\"dataframe\">\n",
       "  <thead>\n",
       "    <tr style=\"text-align: right;\">\n",
       "      <th></th>\n",
       "      <th>Claim ID</th>\n",
       "      <th>Provider ID</th>\n",
       "      <th>Client ID</th>\n",
       "      <th>Proc Code</th>\n",
       "      <th>Claim Status Code</th>\n",
       "      <th>From Service Date</th>\n",
       "      <th>To Service Date</th>\n",
       "      <th>Billed Amount ($)</th>\n",
       "      <th>Paid Amount ($)</th>\n",
       "    </tr>\n",
       "  </thead>\n",
       "  <tbody>\n",
       "    <tr>\n",
       "      <th>0</th>\n",
       "      <td>C0001</td>\n",
       "      <td>P009</td>\n",
       "      <td>CL0001</td>\n",
       "      <td>T1002</td>\n",
       "      <td>P</td>\n",
       "      <td>2022-09-23 00:00:00</td>\n",
       "      <td>2022-09-25 00:00:00</td>\n",
       "      <td>342.65</td>\n",
       "      <td>184.94</td>\n",
       "    </tr>\n",
       "    <tr>\n",
       "      <th>1</th>\n",
       "      <td>C0002</td>\n",
       "      <td>P040</td>\n",
       "      <td>CL0002</td>\n",
       "      <td>T1002</td>\n",
       "      <td>P</td>\n",
       "      <td>2022-05-08 00:00:00</td>\n",
       "      <td>2022-05-09 00:00:00</td>\n",
       "      <td>400.83</td>\n",
       "      <td>208.69</td>\n",
       "    </tr>\n",
       "    <tr>\n",
       "      <th>2</th>\n",
       "      <td>C0003</td>\n",
       "      <td>P042</td>\n",
       "      <td>CL0003</td>\n",
       "      <td>H2019</td>\n",
       "      <td>P</td>\n",
       "      <td>2022-04-27 00:00:00</td>\n",
       "      <td>2022-04-27 00:00:00</td>\n",
       "      <td>159.57</td>\n",
       "      <td>79.82</td>\n",
       "    </tr>\n",
       "    <tr>\n",
       "      <th>3</th>\n",
       "      <td>C0004</td>\n",
       "      <td>P025</td>\n",
       "      <td>CL0004</td>\n",
       "      <td>G0151</td>\n",
       "      <td>P</td>\n",
       "      <td>2022-11-15 00:00:00</td>\n",
       "      <td>2022-11-15 00:00:00</td>\n",
       "      <td>393.51</td>\n",
       "      <td>252.19</td>\n",
       "    </tr>\n",
       "    <tr>\n",
       "      <th>4</th>\n",
       "      <td>C0005</td>\n",
       "      <td>P027</td>\n",
       "      <td>CL0005</td>\n",
       "      <td>H2019</td>\n",
       "      <td>P</td>\n",
       "      <td>2022-05-19 00:00:00</td>\n",
       "      <td>2022-05-19 00:00:00</td>\n",
       "      <td>135.02</td>\n",
       "      <td>70.07</td>\n",
       "    </tr>\n",
       "  </tbody>\n",
       "</table>\n",
       "</div>"
      ],
      "text/plain": [
       "  Claim ID Provider ID Client ID Proc Code Claim Status Code  \\\n",
       "0    C0001        P009    CL0001     T1002                 P   \n",
       "1    C0002        P040    CL0002     T1002                 P   \n",
       "2    C0003        P042    CL0003     H2019                 P   \n",
       "3    C0004        P025    CL0004     G0151                 P   \n",
       "4    C0005        P027    CL0005     H2019                 P   \n",
       "\n",
       "     From Service Date      To Service Date  Billed Amount ($)  \\\n",
       "0  2022-09-23 00:00:00  2022-09-25 00:00:00             342.65   \n",
       "1  2022-05-08 00:00:00  2022-05-09 00:00:00             400.83   \n",
       "2  2022-04-27 00:00:00  2022-04-27 00:00:00             159.57   \n",
       "3  2022-11-15 00:00:00  2022-11-15 00:00:00             393.51   \n",
       "4  2022-05-19 00:00:00  2022-05-19 00:00:00             135.02   \n",
       "\n",
       "   Paid Amount ($)  \n",
       "0           184.94  \n",
       "1           208.69  \n",
       "2            79.82  \n",
       "3           252.19  \n",
       "4            70.07  "
      ]
     },
     "execution_count": 13,
     "metadata": {},
     "output_type": "execute_result"
    }
   ],
   "source": [
    "claims_df.head()"
   ]
  },
  {
   "cell_type": "code",
   "execution_count": 14,
   "id": "6b1fe0f8-1f43-403e-8c95-bc1398cec4e7",
   "metadata": {},
   "outputs": [
    {
     "data": {
      "text/plain": [
       "Claim ID              object\n",
       "Provider ID           object\n",
       "Client ID             object\n",
       "Proc Code             object\n",
       "Claim Status Code     object\n",
       "From Service Date     object\n",
       "To Service Date       object\n",
       "Billed Amount ($)    float64\n",
       "Paid Amount ($)      float64\n",
       "dtype: object"
      ]
     },
     "execution_count": 14,
     "metadata": {},
     "output_type": "execute_result"
    }
   ],
   "source": [
    "claims_df.dtypes"
   ]
  },
  {
   "cell_type": "code",
   "execution_count": 15,
   "id": "2d61ec81-556f-4997-8bfe-7add8b9693ff",
   "metadata": {},
   "outputs": [],
   "source": [
    "# Converting 'From Service Date' and 'To Service Date' to type - datetime\n",
    "claims_df[\"From Service Date\"] = pd.to_datetime(claims_df[\"From Service Date\"])\n",
    "claims_df[\"To Service Date\"] = pd.to_datetime(claims_df[\"To Service Date\"])"
   ]
  },
  {
   "cell_type": "code",
   "execution_count": 16,
   "id": "62c6ced2-1023-46f4-a762-2b7e5cf48cb5",
   "metadata": {},
   "outputs": [
    {
     "data": {
      "text/plain": [
       "Claim ID             0\n",
       "Provider ID          0\n",
       "Client ID            0\n",
       "Proc Code            0\n",
       "Claim Status Code    0\n",
       "From Service Date    0\n",
       "To Service Date      0\n",
       "Billed Amount ($)    0\n",
       "Paid Amount ($)      7\n",
       "dtype: int64"
      ]
     },
     "execution_count": 16,
     "metadata": {},
     "output_type": "execute_result"
    }
   ],
   "source": [
    "# Checking if any null's are present :\n",
    "claims_df.isnull().sum()"
   ]
  },
  {
   "cell_type": "code",
   "execution_count": 17,
   "id": "8bdcdc53-450e-4ea5-b530-09d283db79a6",
   "metadata": {},
   "outputs": [
    {
     "data": {
      "text/html": [
       "<div>\n",
       "<style scoped>\n",
       "    .dataframe tbody tr th:only-of-type {\n",
       "        vertical-align: middle;\n",
       "    }\n",
       "\n",
       "    .dataframe tbody tr th {\n",
       "        vertical-align: top;\n",
       "    }\n",
       "\n",
       "    .dataframe thead th {\n",
       "        text-align: right;\n",
       "    }\n",
       "</style>\n",
       "<table border=\"1\" class=\"dataframe\">\n",
       "  <thead>\n",
       "    <tr style=\"text-align: right;\">\n",
       "      <th></th>\n",
       "      <th>Claim ID</th>\n",
       "      <th>Provider ID</th>\n",
       "      <th>Client ID</th>\n",
       "      <th>Proc Code</th>\n",
       "      <th>Claim Status Code</th>\n",
       "      <th>From Service Date</th>\n",
       "      <th>To Service Date</th>\n",
       "      <th>Billed Amount ($)</th>\n",
       "      <th>Paid Amount ($)</th>\n",
       "    </tr>\n",
       "  </thead>\n",
       "  <tbody>\n",
       "    <tr>\n",
       "      <th>54</th>\n",
       "      <td>C0055</td>\n",
       "      <td>P014</td>\n",
       "      <td>CL0043</td>\n",
       "      <td>H2019</td>\n",
       "      <td>D</td>\n",
       "      <td>2022-06-29</td>\n",
       "      <td>2022-06-30</td>\n",
       "      <td>190.92</td>\n",
       "      <td>NaN</td>\n",
       "    </tr>\n",
       "    <tr>\n",
       "      <th>57</th>\n",
       "      <td>C0058</td>\n",
       "      <td>P035</td>\n",
       "      <td>CL0047</td>\n",
       "      <td>T1002</td>\n",
       "      <td>D</td>\n",
       "      <td>2022-02-16</td>\n",
       "      <td>2022-02-16</td>\n",
       "      <td>373.14</td>\n",
       "      <td>NaN</td>\n",
       "    </tr>\n",
       "    <tr>\n",
       "      <th>71</th>\n",
       "      <td>C0072</td>\n",
       "      <td>P018</td>\n",
       "      <td>CL0055</td>\n",
       "      <td>H2019</td>\n",
       "      <td>D</td>\n",
       "      <td>2022-03-07</td>\n",
       "      <td>2022-03-07</td>\n",
       "      <td>109.99</td>\n",
       "      <td>NaN</td>\n",
       "    </tr>\n",
       "    <tr>\n",
       "      <th>82</th>\n",
       "      <td>C0083</td>\n",
       "      <td>P032</td>\n",
       "      <td>CL0009</td>\n",
       "      <td>99213</td>\n",
       "      <td>D</td>\n",
       "      <td>2022-01-26</td>\n",
       "      <td>2022-01-26</td>\n",
       "      <td>258.71</td>\n",
       "      <td>NaN</td>\n",
       "    </tr>\n",
       "    <tr>\n",
       "      <th>88</th>\n",
       "      <td>C0089</td>\n",
       "      <td>P006</td>\n",
       "      <td>CL0064</td>\n",
       "      <td>H2019</td>\n",
       "      <td>D</td>\n",
       "      <td>2022-12-10</td>\n",
       "      <td>2022-12-10</td>\n",
       "      <td>268.95</td>\n",
       "      <td>NaN</td>\n",
       "    </tr>\n",
       "    <tr>\n",
       "      <th>107</th>\n",
       "      <td>C0108</td>\n",
       "      <td>P008</td>\n",
       "      <td>CL0016</td>\n",
       "      <td>99213</td>\n",
       "      <td>D</td>\n",
       "      <td>2022-03-15</td>\n",
       "      <td>2022-03-16</td>\n",
       "      <td>301.25</td>\n",
       "      <td>NaN</td>\n",
       "    </tr>\n",
       "    <tr>\n",
       "      <th>145</th>\n",
       "      <td>C0146</td>\n",
       "      <td>P035</td>\n",
       "      <td>CL0068</td>\n",
       "      <td>T1002</td>\n",
       "      <td>D</td>\n",
       "      <td>2022-05-05</td>\n",
       "      <td>2022-05-06</td>\n",
       "      <td>283.54</td>\n",
       "      <td>NaN</td>\n",
       "    </tr>\n",
       "  </tbody>\n",
       "</table>\n",
       "</div>"
      ],
      "text/plain": [
       "    Claim ID Provider ID Client ID Proc Code Claim Status Code  \\\n",
       "54     C0055        P014    CL0043     H2019                 D   \n",
       "57     C0058        P035    CL0047     T1002                 D   \n",
       "71     C0072        P018    CL0055     H2019                 D   \n",
       "82     C0083        P032    CL0009     99213                 D   \n",
       "88     C0089        P006    CL0064     H2019                 D   \n",
       "107    C0108        P008    CL0016     99213                 D   \n",
       "145    C0146        P035    CL0068     T1002                 D   \n",
       "\n",
       "    From Service Date To Service Date  Billed Amount ($)  Paid Amount ($)  \n",
       "54         2022-06-29      2022-06-30             190.92              NaN  \n",
       "57         2022-02-16      2022-02-16             373.14              NaN  \n",
       "71         2022-03-07      2022-03-07             109.99              NaN  \n",
       "82         2022-01-26      2022-01-26             258.71              NaN  \n",
       "88         2022-12-10      2022-12-10             268.95              NaN  \n",
       "107        2022-03-15      2022-03-16             301.25              NaN  \n",
       "145        2022-05-05      2022-05-06             283.54              NaN  "
      ]
     },
     "execution_count": 17,
     "metadata": {},
     "output_type": "execute_result"
    }
   ],
   "source": [
    "claims_df[claims_df['Paid Amount ($)'].isna()]"
   ]
  },
  {
   "cell_type": "code",
   "execution_count": 18,
   "id": "1b683757-d91c-43c7-ad4f-1a1e3decf587",
   "metadata": {},
   "outputs": [
    {
     "data": {
      "text/plain": [
       "Claim Status Code\n",
       "P    393\n",
       "D      7\n",
       "Name: count, dtype: int64"
      ]
     },
     "execution_count": 18,
     "metadata": {},
     "output_type": "execute_result"
    }
   ],
   "source": [
    "# Checking distribution of claim status code\n",
    "claims_df['Claim Status Code'].value_counts()"
   ]
  },
  {
   "cell_type": "code",
   "execution_count": 19,
   "id": "6e0e1aea-08fe-4a84-a0bc-1295c61a6438",
   "metadata": {},
   "outputs": [],
   "source": [
    "# From above we can see that paid amount was NULL for Denied Claims\n",
    "# Filling it up with 0 for now, but this won't affect our analysis, because we have to focus on \"Paid Claims\"\n",
    "\n",
    "claims_df.fillna({'Paid Amount ($)':0}, inplace = True)"
   ]
  },
  {
   "cell_type": "code",
   "execution_count": 20,
   "id": "30d92a5c-17fe-402f-ada0-cc538807bc44",
   "metadata": {},
   "outputs": [
    {
     "data": {
      "text/plain": [
       "400"
      ]
     },
     "execution_count": 20,
     "metadata": {},
     "output_type": "execute_result"
    }
   ],
   "source": [
    "# Checking unique number of claim id's\n",
    "len(list(claims_df['Claim ID'].unique()))"
   ]
  },
  {
   "cell_type": "code",
   "execution_count": 21,
   "id": "09d676f3-f9b4-42ce-956c-d2b838c82b8a",
   "metadata": {},
   "outputs": [
    {
     "name": "stdout",
     "output_type": "stream",
     "text": [
      "------ From Service Date\n",
      "2020-03-14 00:00:00\n",
      "2022-12-28 00:00:00\n",
      "------ To Service Date\n",
      "2020-03-14 00:00:00\n",
      "2022-12-28 00:00:00\n"
     ]
    }
   ],
   "source": [
    "# Checking the min date of From service and max date of to service\n",
    "print(\"------ From Service Date\")\n",
    "print(claims_df[\"From Service Date\"].min())\n",
    "print(claims_df[\"From Service Date\"].max())\n",
    "print(\"------ To Service Date\")\n",
    "print(claims_df[\"To Service Date\"].min())\n",
    "print(claims_df[\"To Service Date\"].max())"
   ]
  },
  {
   "cell_type": "code",
   "execution_count": 22,
   "id": "f3926ebe-3165-4519-9d76-e517e78eec43",
   "metadata": {},
   "outputs": [],
   "source": [
    "# Will apply filter on claims when we start the analysis"
   ]
  },
  {
   "cell_type": "code",
   "execution_count": null,
   "id": "bb7ff41a-80c3-4190-9c6f-462761cab50d",
   "metadata": {},
   "outputs": [],
   "source": []
  },
  {
   "cell_type": "markdown",
   "id": "a649d97c-a333-46b4-82c0-00c13ebc6525",
   "metadata": {},
   "source": [
    "# ----------------------------- Sheet 2 : Clients"
   ]
  },
  {
   "cell_type": "code",
   "execution_count": 23,
   "id": "6ab600a7-539b-4636-b73b-b85244d2e994",
   "metadata": {},
   "outputs": [],
   "source": [
    "# Reading in the data from excel -\n",
    "clients_df = pd.read_excel('data/Medicaid_Fraud_Case.xlsx', sheet_name='Clients')"
   ]
  },
  {
   "cell_type": "code",
   "execution_count": 24,
   "id": "e45bcddf-8b0c-47fe-9bef-7fe093ef3b58",
   "metadata": {},
   "outputs": [
    {
     "data": {
      "text/html": [
       "<div>\n",
       "<style scoped>\n",
       "    .dataframe tbody tr th:only-of-type {\n",
       "        vertical-align: middle;\n",
       "    }\n",
       "\n",
       "    .dataframe tbody tr th {\n",
       "        vertical-align: top;\n",
       "    }\n",
       "\n",
       "    .dataframe thead th {\n",
       "        text-align: right;\n",
       "    }\n",
       "</style>\n",
       "<table border=\"1\" class=\"dataframe\">\n",
       "  <thead>\n",
       "    <tr style=\"text-align: right;\">\n",
       "      <th></th>\n",
       "      <th>Client ID</th>\n",
       "      <th>Client Name</th>\n",
       "      <th>Date of Birth</th>\n",
       "      <th>Gender</th>\n",
       "      <th>Enrollment Start Date</th>\n",
       "      <th>Enrollment End Date</th>\n",
       "    </tr>\n",
       "  </thead>\n",
       "  <tbody>\n",
       "    <tr>\n",
       "      <th>0</th>\n",
       "      <td>CL0001</td>\n",
       "      <td>Client_0</td>\n",
       "      <td>1950-01-01 00:00:00</td>\n",
       "      <td>Male</td>\n",
       "      <td>2021-12-08</td>\n",
       "      <td>2026-02-01</td>\n",
       "    </tr>\n",
       "    <tr>\n",
       "      <th>1</th>\n",
       "      <td>CL0002</td>\n",
       "      <td>Client_1</td>\n",
       "      <td>1950-06-22 00:00:00</td>\n",
       "      <td>Female</td>\n",
       "      <td>2021-10-23</td>\n",
       "      <td>2026-03-06</td>\n",
       "    </tr>\n",
       "    <tr>\n",
       "      <th>2</th>\n",
       "      <td>CL0003</td>\n",
       "      <td>Client_2</td>\n",
       "      <td>1950-12-12 00:00:00</td>\n",
       "      <td>Female</td>\n",
       "      <td>2021-05-27</td>\n",
       "      <td>2025-05-28</td>\n",
       "    </tr>\n",
       "    <tr>\n",
       "      <th>3</th>\n",
       "      <td>CL0004</td>\n",
       "      <td>Client_3</td>\n",
       "      <td>1951-06-03 00:00:00</td>\n",
       "      <td>Female</td>\n",
       "      <td>2022-01-14</td>\n",
       "      <td>2025-04-26</td>\n",
       "    </tr>\n",
       "    <tr>\n",
       "      <th>4</th>\n",
       "      <td>CL0005</td>\n",
       "      <td>Client_4</td>\n",
       "      <td>1951-11-22 00:00:00</td>\n",
       "      <td>Male</td>\n",
       "      <td>2019-11-29</td>\n",
       "      <td>2022-11-11</td>\n",
       "    </tr>\n",
       "  </tbody>\n",
       "</table>\n",
       "</div>"
      ],
      "text/plain": [
       "  Client ID Client Name        Date of Birth  Gender Enrollment Start Date  \\\n",
       "0    CL0001    Client_0  1950-01-01 00:00:00    Male            2021-12-08   \n",
       "1    CL0002    Client_1  1950-06-22 00:00:00  Female            2021-10-23   \n",
       "2    CL0003    Client_2  1950-12-12 00:00:00  Female            2021-05-27   \n",
       "3    CL0004    Client_3  1951-06-03 00:00:00  Female            2022-01-14   \n",
       "4    CL0005    Client_4  1951-11-22 00:00:00    Male            2019-11-29   \n",
       "\n",
       "  Enrollment End Date  \n",
       "0          2026-02-01  \n",
       "1          2026-03-06  \n",
       "2          2025-05-28  \n",
       "3          2025-04-26  \n",
       "4          2022-11-11  "
      ]
     },
     "execution_count": 24,
     "metadata": {},
     "output_type": "execute_result"
    }
   ],
   "source": [
    "clients_df.head()"
   ]
  },
  {
   "cell_type": "code",
   "execution_count": 25,
   "id": "ff1db2e0-04b9-4ab7-95f1-5468351ecbed",
   "metadata": {},
   "outputs": [
    {
     "data": {
      "text/plain": [
       "Client ID                        object\n",
       "Client Name                      object\n",
       "Date of Birth                    object\n",
       "Gender                           object\n",
       "Enrollment Start Date    datetime64[ns]\n",
       "Enrollment End Date      datetime64[ns]\n",
       "dtype: object"
      ]
     },
     "execution_count": 25,
     "metadata": {},
     "output_type": "execute_result"
    }
   ],
   "source": [
    "clients_df.dtypes"
   ]
  },
  {
   "cell_type": "code",
   "execution_count": 26,
   "id": "7b2974b4-83cd-44ea-86fd-705cdfe8a7cf",
   "metadata": {},
   "outputs": [],
   "source": [
    "# converting Date of birth to Datetime\n",
    "clients_df[\"Date of Birth\"] = pd.to_datetime(clients_df[\"Date of Birth\"])"
   ]
  },
  {
   "cell_type": "code",
   "execution_count": 27,
   "id": "9fe4d7d1-d26c-4b96-a117-4a0232c161e6",
   "metadata": {},
   "outputs": [
    {
     "name": "stdout",
     "output_type": "stream",
     "text": [
      "------ Date of Birth\n",
      "1950-01-01 00:00:00\n",
      "2010-12-31 00:00:00\n",
      "------ Enrollment Start Date\n",
      "2019-07-25 00:00:00\n",
      "2022-06-21 00:00:00\n",
      "------ Enrollment End Date\n",
      "2021-12-28 00:00:00\n",
      "2026-10-16 00:00:00\n"
     ]
    }
   ],
   "source": [
    "# Checking the min / max dates of all datetime columns -\n",
    "print(\"------ Date of Birth\")\n",
    "print(clients_df[\"Date of Birth\"].min())\n",
    "print(clients_df[\"Date of Birth\"].max())\n",
    "print(\"------ Enrollment Start Date\")\n",
    "print(clients_df[\"Enrollment Start Date\"].min())\n",
    "print(clients_df[\"Enrollment Start Date\"].max())\n",
    "print(\"------ Enrollment End Date\")\n",
    "print(clients_df[\"Enrollment End Date\"].min())\n",
    "print(clients_df[\"Enrollment End Date\"].max())"
   ]
  },
  {
   "cell_type": "code",
   "execution_count": 28,
   "id": "f57678a3-d6e7-48fa-888f-a6676077210b",
   "metadata": {},
   "outputs": [],
   "source": [
    "# All values above seem reasonable."
   ]
  },
  {
   "cell_type": "code",
   "execution_count": 29,
   "id": "f2ca1cc4-2d6c-43b4-bc07-3bb8bb688c6e",
   "metadata": {},
   "outputs": [
    {
     "data": {
      "text/plain": [
       "Client ID                0\n",
       "Client Name              0\n",
       "Date of Birth            0\n",
       "Gender                   0\n",
       "Enrollment Start Date    0\n",
       "Enrollment End Date      0\n",
       "dtype: int64"
      ]
     },
     "execution_count": 29,
     "metadata": {},
     "output_type": "execute_result"
    }
   ],
   "source": [
    "clients_df.isnull().sum()"
   ]
  },
  {
   "cell_type": "code",
   "execution_count": 30,
   "id": "b59123e8-3804-4a84-b05e-c4c4e49ad726",
   "metadata": {},
   "outputs": [
    {
     "data": {
      "text/plain": [
       "Gender\n",
       "Male      60\n",
       "Other     47\n",
       "Female    43\n",
       "Name: count, dtype: int64"
      ]
     },
     "execution_count": 30,
     "metadata": {},
     "output_type": "execute_result"
    }
   ],
   "source": [
    "# Checking values\n",
    "clients_df['Gender'].value_counts()"
   ]
  },
  {
   "cell_type": "code",
   "execution_count": 31,
   "id": "2f7a177b-c7c8-4e34-8978-cd91c68ef137",
   "metadata": {},
   "outputs": [
    {
     "data": {
      "text/plain": [
       "[]"
      ]
     },
     "execution_count": 31,
     "metadata": {},
     "output_type": "execute_result"
    }
   ],
   "source": [
    "# Checking unique Client ID's in claims are present in clients\n",
    "missing_id = [elem for elem in list(claims_df['Client ID'].unique()) if elem not in list(clients_df['Client ID'].unique())]\n",
    "missing_id"
   ]
  },
  {
   "cell_type": "code",
   "execution_count": null,
   "id": "89dc3e2c-eb56-407c-b607-aefb505666fe",
   "metadata": {},
   "outputs": [],
   "source": []
  },
  {
   "cell_type": "markdown",
   "id": "c9b4f013-9d14-411e-8421-e1ca33dab733",
   "metadata": {},
   "source": [
    "# ----------------------------- Sheet 3 : Providers"
   ]
  },
  {
   "cell_type": "code",
   "execution_count": 32,
   "id": "bfe66a5b-af1a-443e-8fe1-08f71ce36c77",
   "metadata": {},
   "outputs": [],
   "source": [
    "# Reading in the data from excel -\n",
    "providers_df = pd.read_excel('data/Medicaid_Fraud_Case.xlsx', sheet_name='Providers')"
   ]
  },
  {
   "cell_type": "code",
   "execution_count": 33,
   "id": "41da23b2-d8b1-4b4f-94c8-d485204ce37c",
   "metadata": {},
   "outputs": [
    {
     "data": {
      "text/plain": [
       "(75, 5)"
      ]
     },
     "execution_count": 33,
     "metadata": {},
     "output_type": "execute_result"
    }
   ],
   "source": [
    "providers_df.shape"
   ]
  },
  {
   "cell_type": "code",
   "execution_count": 34,
   "id": "68e00200-471b-4527-b0b0-5ea6015c16a6",
   "metadata": {},
   "outputs": [
    {
     "data": {
      "text/html": [
       "<div>\n",
       "<style scoped>\n",
       "    .dataframe tbody tr th:only-of-type {\n",
       "        vertical-align: middle;\n",
       "    }\n",
       "\n",
       "    .dataframe tbody tr th {\n",
       "        vertical-align: top;\n",
       "    }\n",
       "\n",
       "    .dataframe thead th {\n",
       "        text-align: right;\n",
       "    }\n",
       "</style>\n",
       "<table border=\"1\" class=\"dataframe\">\n",
       "  <thead>\n",
       "    <tr style=\"text-align: right;\">\n",
       "      <th></th>\n",
       "      <th>Provider ID</th>\n",
       "      <th>Provider Name</th>\n",
       "      <th>Specialty</th>\n",
       "      <th>Enrollment Date</th>\n",
       "      <th>Status</th>\n",
       "    </tr>\n",
       "  </thead>\n",
       "  <tbody>\n",
       "    <tr>\n",
       "      <th>0</th>\n",
       "      <td>P001</td>\n",
       "      <td>Prov_001</td>\n",
       "      <td>Home Health</td>\n",
       "      <td>2020-01-08</td>\n",
       "      <td>Active</td>\n",
       "    </tr>\n",
       "    <tr>\n",
       "      <th>1</th>\n",
       "      <td>P002</td>\n",
       "      <td>Prov_002</td>\n",
       "      <td>General Medicine</td>\n",
       "      <td>2022-04-26</td>\n",
       "      <td>Inactive</td>\n",
       "    </tr>\n",
       "    <tr>\n",
       "      <th>2</th>\n",
       "      <td>P003</td>\n",
       "      <td>Prov_003</td>\n",
       "      <td>General Medicine</td>\n",
       "      <td>2021-07-31</td>\n",
       "      <td>Inactive</td>\n",
       "    </tr>\n",
       "    <tr>\n",
       "      <th>3</th>\n",
       "      <td>P004</td>\n",
       "      <td>Prov_004</td>\n",
       "      <td>Home Health</td>\n",
       "      <td>2017-07-20</td>\n",
       "      <td>Active</td>\n",
       "    </tr>\n",
       "    <tr>\n",
       "      <th>4</th>\n",
       "      <td>P005</td>\n",
       "      <td>Zoom Clinic</td>\n",
       "      <td>General Medicine</td>\n",
       "      <td>2017-02-09</td>\n",
       "      <td>Inactive</td>\n",
       "    </tr>\n",
       "  </tbody>\n",
       "</table>\n",
       "</div>"
      ],
      "text/plain": [
       "  Provider ID Provider Name         Specialty Enrollment Date    Status\n",
       "0        P001      Prov_001       Home Health      2020-01-08    Active\n",
       "1        P002      Prov_002  General Medicine      2022-04-26  Inactive\n",
       "2        P003      Prov_003  General Medicine      2021-07-31  Inactive\n",
       "3        P004      Prov_004       Home Health      2017-07-20    Active\n",
       "4        P005   Zoom Clinic  General Medicine      2017-02-09  Inactive"
      ]
     },
     "execution_count": 34,
     "metadata": {},
     "output_type": "execute_result"
    }
   ],
   "source": [
    "providers_df.head()"
   ]
  },
  {
   "cell_type": "code",
   "execution_count": 35,
   "id": "586b7ab5-f9d9-465e-b259-ebc611ed9019",
   "metadata": {},
   "outputs": [
    {
     "data": {
      "text/plain": [
       "Provider ID                object\n",
       "Provider Name              object\n",
       "Specialty                  object\n",
       "Enrollment Date    datetime64[ns]\n",
       "Status                     object\n",
       "dtype: object"
      ]
     },
     "execution_count": 35,
     "metadata": {},
     "output_type": "execute_result"
    }
   ],
   "source": [
    "providers_df.dtypes"
   ]
  },
  {
   "cell_type": "code",
   "execution_count": 36,
   "id": "3f4e38c1-7b1e-473c-8ae6-44f64b08eb50",
   "metadata": {},
   "outputs": [
    {
     "name": "stdout",
     "output_type": "stream",
     "text": [
      "75\n"
     ]
    }
   ],
   "source": [
    "# checking unique provider id -\n",
    "print(len(list(providers_df['Provider ID'].unique())))"
   ]
  },
  {
   "cell_type": "code",
   "execution_count": 37,
   "id": "98e10d8a-10a3-4b94-83f5-a7f2b78b6d1c",
   "metadata": {},
   "outputs": [
    {
     "data": {
      "text/plain": [
       "Provider ID        0\n",
       "Provider Name      0\n",
       "Specialty          8\n",
       "Enrollment Date    0\n",
       "Status             0\n",
       "dtype: int64"
      ]
     },
     "execution_count": 37,
     "metadata": {},
     "output_type": "execute_result"
    }
   ],
   "source": [
    "# Checking na values\n",
    "providers_df.isnull().sum()"
   ]
  },
  {
   "cell_type": "code",
   "execution_count": 38,
   "id": "e7de4b39-0211-473a-b6dc-e5a0adb2e89d",
   "metadata": {},
   "outputs": [
    {
     "data": {
      "text/plain": [
       "Specialty\n",
       "Home Health         28\n",
       "General Medicine    18\n",
       "Pediatrics          13\n",
       "Behavioral           8\n",
       "Name: count, dtype: int64"
      ]
     },
     "execution_count": 38,
     "metadata": {},
     "output_type": "execute_result"
    }
   ],
   "source": [
    "# Checking unique values - \n",
    "providers_df['Specialty'].value_counts()"
   ]
  },
  {
   "cell_type": "code",
   "execution_count": 39,
   "id": "d12717d4-3fdc-4441-bf05-9b158a072a93",
   "metadata": {},
   "outputs": [
    {
     "data": {
      "text/plain": [
       "Status\n",
       "Inactive    44\n",
       "Active      31\n",
       "Name: count, dtype: int64"
      ]
     },
     "execution_count": 39,
     "metadata": {},
     "output_type": "execute_result"
    }
   ],
   "source": [
    "# Checking unique values - \n",
    "providers_df['Status'].value_counts()"
   ]
  },
  {
   "cell_type": "code",
   "execution_count": 40,
   "id": "d09b9a2c-0c1d-4fe2-bf98-554b00c111dd",
   "metadata": {},
   "outputs": [
    {
     "data": {
      "text/plain": [
       "[]"
      ]
     },
     "execution_count": 40,
     "metadata": {},
     "output_type": "execute_result"
    }
   ],
   "source": [
    "# Checking unique Providers ID's in claims are present in providers\n",
    "missing_id = [elem for elem in list(claims_df['Provider ID'].unique()) if elem not in list(providers_df['Provider ID'].unique())]\n",
    "missing_id"
   ]
  },
  {
   "cell_type": "code",
   "execution_count": null,
   "id": "f584092b-13b8-4ce2-bcdf-8acd10fe0716",
   "metadata": {},
   "outputs": [],
   "source": []
  },
  {
   "cell_type": "markdown",
   "id": "74e979cf-d869-48f5-836d-85d2795d696b",
   "metadata": {},
   "source": [
    "# ----------------------------- Sheet 4 : Procedure Codes"
   ]
  },
  {
   "cell_type": "code",
   "execution_count": 41,
   "id": "98722c29-dca1-4b98-af27-04af9e5c57e2",
   "metadata": {},
   "outputs": [],
   "source": [
    "# Reading in the data from excel -\n",
    "procedure_codes_df = pd.read_excel('data/Medicaid_Fraud_Case.xlsx', sheet_name='Procedure Codes')"
   ]
  },
  {
   "cell_type": "code",
   "execution_count": 42,
   "id": "dfe6fb37-fd34-4eb2-833d-9e78ac908f0d",
   "metadata": {},
   "outputs": [
    {
     "data": {
      "text/html": [
       "<div>\n",
       "<style scoped>\n",
       "    .dataframe tbody tr th:only-of-type {\n",
       "        vertical-align: middle;\n",
       "    }\n",
       "\n",
       "    .dataframe tbody tr th {\n",
       "        vertical-align: top;\n",
       "    }\n",
       "\n",
       "    .dataframe thead th {\n",
       "        text-align: right;\n",
       "    }\n",
       "</style>\n",
       "<table border=\"1\" class=\"dataframe\">\n",
       "  <thead>\n",
       "    <tr style=\"text-align: right;\">\n",
       "      <th></th>\n",
       "      <th>Proc Code</th>\n",
       "      <th>Description</th>\n",
       "      <th>Typical Duration (hrs)</th>\n",
       "      <th>Category</th>\n",
       "      <th>Type of Service</th>\n",
       "    </tr>\n",
       "  </thead>\n",
       "  <tbody>\n",
       "    <tr>\n",
       "      <th>0</th>\n",
       "      <td>99213</td>\n",
       "      <td>Office visit, established patient</td>\n",
       "      <td>1.0</td>\n",
       "      <td>Evaluation</td>\n",
       "      <td>Medical</td>\n",
       "    </tr>\n",
       "    <tr>\n",
       "      <th>1</th>\n",
       "      <td>G0299</td>\n",
       "      <td>EVV services</td>\n",
       "      <td>1.0</td>\n",
       "      <td>Nursing (HCBS)</td>\n",
       "      <td>Non-Medical</td>\n",
       "    </tr>\n",
       "    <tr>\n",
       "      <th>2</th>\n",
       "      <td>99385</td>\n",
       "      <td>Preventive exam, new patient</td>\n",
       "      <td>1.0</td>\n",
       "      <td>Preventive</td>\n",
       "      <td>Medical</td>\n",
       "    </tr>\n",
       "    <tr>\n",
       "      <th>3</th>\n",
       "      <td>G0151</td>\n",
       "      <td>Physical therapy visit</td>\n",
       "      <td>1.0</td>\n",
       "      <td>Therapy</td>\n",
       "      <td>Medical</td>\n",
       "    </tr>\n",
       "    <tr>\n",
       "      <th>4</th>\n",
       "      <td>H2019*</td>\n",
       "      <td>Community psychiatric support</td>\n",
       "      <td>2.0</td>\n",
       "      <td>Psychiatric</td>\n",
       "      <td>Medical</td>\n",
       "    </tr>\n",
       "    <tr>\n",
       "      <th>5</th>\n",
       "      <td>T2003</td>\n",
       "      <td>NEMT services</td>\n",
       "      <td>1.0</td>\n",
       "      <td>Transportation</td>\n",
       "      <td>Non-Medical</td>\n",
       "    </tr>\n",
       "    <tr>\n",
       "      <th>6</th>\n",
       "      <td>T1002</td>\n",
       "      <td>In-home nursing services</td>\n",
       "      <td>1.0</td>\n",
       "      <td>Nursing</td>\n",
       "      <td>Medical</td>\n",
       "    </tr>\n",
       "    <tr>\n",
       "      <th>7</th>\n",
       "      <td>NaN</td>\n",
       "      <td>NaN</td>\n",
       "      <td>NaN</td>\n",
       "      <td>NaN</td>\n",
       "      <td>NaN</td>\n",
       "    </tr>\n",
       "    <tr>\n",
       "      <th>8</th>\n",
       "      <td>*According to policy, providers must limit cla...</td>\n",
       "      <td>NaN</td>\n",
       "      <td>NaN</td>\n",
       "      <td>NaN</td>\n",
       "      <td>NaN</td>\n",
       "    </tr>\n",
       "  </tbody>\n",
       "</table>\n",
       "</div>"
      ],
      "text/plain": [
       "                                           Proc Code  \\\n",
       "0                                              99213   \n",
       "1                                              G0299   \n",
       "2                                              99385   \n",
       "3                                              G0151   \n",
       "4                                             H2019*   \n",
       "5                                              T2003   \n",
       "6                                              T1002   \n",
       "7                                                NaN   \n",
       "8  *According to policy, providers must limit cla...   \n",
       "\n",
       "                         Description  Typical Duration (hrs)        Category  \\\n",
       "0  Office visit, established patient                     1.0      Evaluation   \n",
       "1                       EVV services                     1.0  Nursing (HCBS)   \n",
       "2       Preventive exam, new patient                     1.0      Preventive   \n",
       "3             Physical therapy visit                     1.0         Therapy   \n",
       "4      Community psychiatric support                     2.0     Psychiatric   \n",
       "5                      NEMT services                     1.0  Transportation   \n",
       "6           In-home nursing services                     1.0         Nursing   \n",
       "7                                NaN                     NaN             NaN   \n",
       "8                                NaN                     NaN             NaN   \n",
       "\n",
       "  Type of Service  \n",
       "0         Medical  \n",
       "1     Non-Medical  \n",
       "2         Medical  \n",
       "3         Medical  \n",
       "4         Medical  \n",
       "5     Non-Medical  \n",
       "6         Medical  \n",
       "7             NaN  \n",
       "8             NaN  "
      ]
     },
     "execution_count": 42,
     "metadata": {},
     "output_type": "execute_result"
    }
   ],
   "source": [
    "procedure_codes_df.head(15)"
   ]
  },
  {
   "cell_type": "code",
   "execution_count": 43,
   "id": "e42e16bf-7e08-4bfd-b7c8-468bb48923c7",
   "metadata": {},
   "outputs": [],
   "source": [
    "# As seen above dropping the last 2 rows from DF\n",
    "procedure_codes_df = procedure_codes_df[:-2]"
   ]
  },
  {
   "cell_type": "code",
   "execution_count": 44,
   "id": "04216aa5-d8c1-4755-8734-c233c9719e9b",
   "metadata": {},
   "outputs": [],
   "source": [
    "# Provider code H2019* has an * next to it. Removing the same to merge with the claims\n",
    "procedure_codes_df[\"Proc Code\"] = procedure_codes_df[\"Proc Code\"].str.rstrip(\"*\")"
   ]
  },
  {
   "cell_type": "code",
   "execution_count": 45,
   "id": "da644b07-0b5c-49d4-8e70-4e2ca45db606",
   "metadata": {},
   "outputs": [
    {
     "data": {
      "text/html": [
       "<div>\n",
       "<style scoped>\n",
       "    .dataframe tbody tr th:only-of-type {\n",
       "        vertical-align: middle;\n",
       "    }\n",
       "\n",
       "    .dataframe tbody tr th {\n",
       "        vertical-align: top;\n",
       "    }\n",
       "\n",
       "    .dataframe thead th {\n",
       "        text-align: right;\n",
       "    }\n",
       "</style>\n",
       "<table border=\"1\" class=\"dataframe\">\n",
       "  <thead>\n",
       "    <tr style=\"text-align: right;\">\n",
       "      <th></th>\n",
       "      <th>Proc Code</th>\n",
       "      <th>Description</th>\n",
       "      <th>Typical Duration (hrs)</th>\n",
       "      <th>Category</th>\n",
       "      <th>Type of Service</th>\n",
       "    </tr>\n",
       "  </thead>\n",
       "  <tbody>\n",
       "    <tr>\n",
       "      <th>0</th>\n",
       "      <td>99213</td>\n",
       "      <td>Office visit, established patient</td>\n",
       "      <td>1.0</td>\n",
       "      <td>Evaluation</td>\n",
       "      <td>Medical</td>\n",
       "    </tr>\n",
       "    <tr>\n",
       "      <th>1</th>\n",
       "      <td>G0299</td>\n",
       "      <td>EVV services</td>\n",
       "      <td>1.0</td>\n",
       "      <td>Nursing (HCBS)</td>\n",
       "      <td>Non-Medical</td>\n",
       "    </tr>\n",
       "    <tr>\n",
       "      <th>2</th>\n",
       "      <td>99385</td>\n",
       "      <td>Preventive exam, new patient</td>\n",
       "      <td>1.0</td>\n",
       "      <td>Preventive</td>\n",
       "      <td>Medical</td>\n",
       "    </tr>\n",
       "    <tr>\n",
       "      <th>3</th>\n",
       "      <td>G0151</td>\n",
       "      <td>Physical therapy visit</td>\n",
       "      <td>1.0</td>\n",
       "      <td>Therapy</td>\n",
       "      <td>Medical</td>\n",
       "    </tr>\n",
       "    <tr>\n",
       "      <th>4</th>\n",
       "      <td>H2019</td>\n",
       "      <td>Community psychiatric support</td>\n",
       "      <td>2.0</td>\n",
       "      <td>Psychiatric</td>\n",
       "      <td>Medical</td>\n",
       "    </tr>\n",
       "    <tr>\n",
       "      <th>5</th>\n",
       "      <td>T2003</td>\n",
       "      <td>NEMT services</td>\n",
       "      <td>1.0</td>\n",
       "      <td>Transportation</td>\n",
       "      <td>Non-Medical</td>\n",
       "    </tr>\n",
       "    <tr>\n",
       "      <th>6</th>\n",
       "      <td>T1002</td>\n",
       "      <td>In-home nursing services</td>\n",
       "      <td>1.0</td>\n",
       "      <td>Nursing</td>\n",
       "      <td>Medical</td>\n",
       "    </tr>\n",
       "  </tbody>\n",
       "</table>\n",
       "</div>"
      ],
      "text/plain": [
       "  Proc Code                        Description  Typical Duration (hrs)  \\\n",
       "0     99213  Office visit, established patient                     1.0   \n",
       "1     G0299                       EVV services                     1.0   \n",
       "2     99385       Preventive exam, new patient                     1.0   \n",
       "3     G0151             Physical therapy visit                     1.0   \n",
       "4     H2019      Community psychiatric support                     2.0   \n",
       "5     T2003                      NEMT services                     1.0   \n",
       "6     T1002           In-home nursing services                     1.0   \n",
       "\n",
       "         Category Type of Service  \n",
       "0      Evaluation         Medical  \n",
       "1  Nursing (HCBS)     Non-Medical  \n",
       "2      Preventive         Medical  \n",
       "3         Therapy         Medical  \n",
       "4     Psychiatric         Medical  \n",
       "5  Transportation     Non-Medical  \n",
       "6         Nursing         Medical  "
      ]
     },
     "execution_count": 45,
     "metadata": {},
     "output_type": "execute_result"
    }
   ],
   "source": [
    "procedure_codes_df.head(15)"
   ]
  },
  {
   "cell_type": "code",
   "execution_count": 46,
   "id": "95cd4a94-33b1-445c-ba0a-b87f72aec8bc",
   "metadata": {},
   "outputs": [
    {
     "data": {
      "text/plain": [
       "Type of Service\n",
       "Medical        5\n",
       "Non-Medical    2\n",
       "Name: count, dtype: int64"
      ]
     },
     "execution_count": 46,
     "metadata": {},
     "output_type": "execute_result"
    }
   ],
   "source": [
    "# Checking unique values\n",
    "procedure_codes_df[\"Type of Service\"].value_counts()"
   ]
  },
  {
   "cell_type": "code",
   "execution_count": null,
   "id": "a549f6e8-38fa-4445-89aa-56fc3349423f",
   "metadata": {},
   "outputs": [],
   "source": []
  },
  {
   "cell_type": "code",
   "execution_count": 47,
   "id": "5e8abe55-5491-4879-8ec7-de441c9b4ecb",
   "metadata": {},
   "outputs": [
    {
     "data": {
      "text/plain": [
       "[]"
      ]
     },
     "execution_count": 47,
     "metadata": {},
     "output_type": "execute_result"
    }
   ],
   "source": [
    "# Checking unique Procedure code's in claims are present in procedure codes\n",
    "missing_id = [elem for elem in list(claims_df['Proc Code'].unique()) if str(elem) not in list(procedure_codes_df['Proc Code'].unique())]\n",
    "missing_id"
   ]
  },
  {
   "cell_type": "code",
   "execution_count": null,
   "id": "71476bee-dbc0-4d1c-8b23-bcaa41522142",
   "metadata": {},
   "outputs": [],
   "source": []
  },
  {
   "cell_type": "markdown",
   "id": "59da25c2-e1c1-4dda-bd84-aa21c5cbb75f",
   "metadata": {},
   "source": [
    "# ----------------------------- Saving the data"
   ]
  },
  {
   "cell_type": "code",
   "execution_count": 48,
   "id": "c32708e4-c0ec-41ad-926e-02d4ddeeb4df",
   "metadata": {},
   "outputs": [],
   "source": [
    "# After analysis, here the final cleaned df ready to be used for Analysis -\n",
    "# Claims Data : final_claims_data_for_analysis\n",
    "# Clients Data : clients_df\n",
    "# Providers Data : providers_df\n",
    "# Procedure Data : procedure_codes_df"
   ]
  },
  {
   "cell_type": "code",
   "execution_count": 49,
   "id": "7f1277e4-f6f2-4dcb-9f4d-cf576b6d0ee8",
   "metadata": {},
   "outputs": [],
   "source": [
    "# Saving the above df in separate excel sheet for analysis -\n",
    "with pd.ExcelWriter(\"data/Medicaid_Fraud_Case_Cleaned.xlsx\", engine=\"xlsxwriter\") as writer:\n",
    "    claims_df.to_excel(writer, sheet_name=\"Claims\", index=False)\n",
    "    clients_df.to_excel(writer, sheet_name=\"Clients\", index=False)\n",
    "    providers_df.to_excel(writer, sheet_name=\"Providers\", index=False)\n",
    "    procedure_codes_df.to_excel(writer, sheet_name=\"Procedure Codes\", index=False)"
   ]
  },
  {
   "cell_type": "code",
   "execution_count": null,
   "id": "850b4109-37ae-455f-9953-1672c7104cdd",
   "metadata": {},
   "outputs": [],
   "source": []
  }
 ],
 "metadata": {
  "kernelspec": {
   "display_name": "Python 3 (ipykernel)",
   "language": "python",
   "name": "python3"
  },
  "language_info": {
   "codemirror_mode": {
    "name": "ipython",
    "version": 3
   },
   "file_extension": ".py",
   "mimetype": "text/x-python",
   "name": "python",
   "nbconvert_exporter": "python",
   "pygments_lexer": "ipython3",
   "version": "3.12.6"
  }
 },
 "nbformat": 4,
 "nbformat_minor": 5
}
